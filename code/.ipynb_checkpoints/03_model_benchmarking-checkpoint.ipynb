{
 "cells": [
  {
   "cell_type": "markdown",
   "id": "b70aa3a1",
   "metadata": {},
   "source": [
    "## Importing libraries and setting global variables"
   ]
  },
  {
   "cell_type": "code",
   "execution_count": 1,
   "id": "4a432be9",
   "metadata": {},
   "outputs": [],
   "source": [
    "# Import usual library\n",
    "import pandas as pd\n",
    "import numpy as np\n",
    "import matplotlib.pyplot as plt\n",
    "import seaborn as sns\n",
    "\n",
    "# Modeling library\n",
    "from sklearn.linear_model import LinearRegression\n",
    "from sklearn import metrics\n",
    "from sklearn.model_selection import train_test_split, cross_val_score\n",
    "\n",
    "# Iterator library\n",
    "import itertools as it\n",
    "\n",
    "# Using this code bit only to make the notebook cleaner to read through. \n",
    "from warnings import simplefilter\n",
    "from sklearn.exceptions import ConvergenceWarning\n",
    "simplefilter(\"ignore\", category=ConvergenceWarning)\n",
    "pd.options.mode.chained_assignment = None  # default='warn'"
   ]
  },
  {
   "cell_type": "code",
   "execution_count": 2,
   "id": "00bb0869",
   "metadata": {},
   "outputs": [],
   "source": [
    "sns.set_palette('bright')"
   ]
  },
  {
   "cell_type": "markdown",
   "id": "d7e019c1",
   "metadata": {},
   "source": [
    "## Importing datasets"
   ]
  },
  {
   "cell_type": "code",
   "execution_count": 3,
   "id": "e0569f20",
   "metadata": {},
   "outputs": [],
   "source": [
    "def read_train_test(status='train'):\n",
    "    # Function to select dataset to read\n",
    "    if status == 'train':\n",
    "        df = pd.read_csv('../datasets/train_cleaned.csv')\n",
    "    elif status == 'test':\n",
    "        df = pd.read_csv('../datasets/test_cleaned.csv')\n",
    "    else:\n",
    "        print(f\"Select the correct dataset\")\n",
    "    return df"
   ]
  },
  {
   "cell_type": "code",
   "execution_count": 4,
   "id": "4a1f3014",
   "metadata": {},
   "outputs": [],
   "source": [
    "# Select 'train' to read train.csv\n",
    "# Select 'test' to read test.csv\n",
    "df = read_train_test('train')"
   ]
  },
  {
   "cell_type": "code",
   "execution_count": 5,
   "id": "badd597f",
   "metadata": {},
   "outputs": [
    {
     "data": {
      "text/plain": [
       "(2092, 60)"
      ]
     },
     "execution_count": 5,
     "metadata": {},
     "output_type": "execute_result"
    }
   ],
   "source": [
    "df.shape"
   ]
  },
  {
   "cell_type": "code",
   "execution_count": 6,
   "id": "6719a05e",
   "metadata": {
    "scrolled": false
   },
   "outputs": [
    {
     "data": {
      "text/html": [
       "<div>\n",
       "<style scoped>\n",
       "    .dataframe tbody tr th:only-of-type {\n",
       "        vertical-align: middle;\n",
       "    }\n",
       "\n",
       "    .dataframe tbody tr th {\n",
       "        vertical-align: top;\n",
       "    }\n",
       "\n",
       "    .dataframe thead th {\n",
       "        text-align: right;\n",
       "    }\n",
       "</style>\n",
       "<table border=\"1\" class=\"dataframe\">\n",
       "  <thead>\n",
       "    <tr style=\"text-align: right;\">\n",
       "      <th></th>\n",
       "      <th>ms_zoning</th>\n",
       "      <th>lot_frontage</th>\n",
       "      <th>street</th>\n",
       "      <th>lot_shape</th>\n",
       "      <th>lot_contour</th>\n",
       "      <th>utilities</th>\n",
       "      <th>lot_config</th>\n",
       "      <th>lot_slope</th>\n",
       "      <th>neighborhood</th>\n",
       "      <th>condition_1</th>\n",
       "      <th>...</th>\n",
       "      <th>sale_price</th>\n",
       "      <th>has_2nd_floor_sf</th>\n",
       "      <th>total_sf</th>\n",
       "      <th>has_basement_sf</th>\n",
       "      <th>total_bath</th>\n",
       "      <th>has_open_porch</th>\n",
       "      <th>has_fireplace</th>\n",
       "      <th>has_wood_deck</th>\n",
       "      <th>log_sale_price</th>\n",
       "      <th>log_lot_area</th>\n",
       "    </tr>\n",
       "  </thead>\n",
       "  <tbody>\n",
       "    <tr>\n",
       "      <th>0</th>\n",
       "      <td>Res</td>\n",
       "      <td>80.0</td>\n",
       "      <td>1</td>\n",
       "      <td>1</td>\n",
       "      <td>1</td>\n",
       "      <td>AllPub</td>\n",
       "      <td>Corner</td>\n",
       "      <td>1</td>\n",
       "      <td>SawyerW</td>\n",
       "      <td>N</td>\n",
       "      <td>...</td>\n",
       "      <td>159000</td>\n",
       "      <td>0</td>\n",
       "      <td>2436.0</td>\n",
       "      <td>1</td>\n",
       "      <td>1.5</td>\n",
       "      <td>1</td>\n",
       "      <td>0</td>\n",
       "      <td>0</td>\n",
       "      <td>11.976659</td>\n",
       "      <td>9.170039</td>\n",
       "    </tr>\n",
       "    <tr>\n",
       "      <th>1</th>\n",
       "      <td>Res</td>\n",
       "      <td>90.0</td>\n",
       "      <td>1</td>\n",
       "      <td>0</td>\n",
       "      <td>1</td>\n",
       "      <td>AllPub</td>\n",
       "      <td>CulDSac</td>\n",
       "      <td>1</td>\n",
       "      <td>SawyerW</td>\n",
       "      <td>N</td>\n",
       "      <td>...</td>\n",
       "      <td>271900</td>\n",
       "      <td>0</td>\n",
       "      <td>4354.0</td>\n",
       "      <td>1</td>\n",
       "      <td>2.0</td>\n",
       "      <td>1</td>\n",
       "      <td>1</td>\n",
       "      <td>1</td>\n",
       "      <td>12.513190</td>\n",
       "      <td>9.594514</td>\n",
       "    </tr>\n",
       "    <tr>\n",
       "      <th>2</th>\n",
       "      <td>Res</td>\n",
       "      <td>60.0</td>\n",
       "      <td>1</td>\n",
       "      <td>0</td>\n",
       "      <td>1</td>\n",
       "      <td>NoSeWa</td>\n",
       "      <td>CulDSac</td>\n",
       "      <td>1</td>\n",
       "      <td>Timber</td>\n",
       "      <td>N</td>\n",
       "      <td>...</td>\n",
       "      <td>137500</td>\n",
       "      <td>0</td>\n",
       "      <td>2163.0</td>\n",
       "      <td>1</td>\n",
       "      <td>1.5</td>\n",
       "      <td>1</td>\n",
       "      <td>1</td>\n",
       "      <td>0</td>\n",
       "      <td>11.831379</td>\n",
       "      <td>9.573246</td>\n",
       "    </tr>\n",
       "    <tr>\n",
       "      <th>3</th>\n",
       "      <td>Res</td>\n",
       "      <td>48.0</td>\n",
       "      <td>1</td>\n",
       "      <td>1</td>\n",
       "      <td>1</td>\n",
       "      <td>AllPub</td>\n",
       "      <td>Inside</td>\n",
       "      <td>1</td>\n",
       "      <td>NridgHt</td>\n",
       "      <td>N</td>\n",
       "      <td>...</td>\n",
       "      <td>248500</td>\n",
       "      <td>0</td>\n",
       "      <td>2907.0</td>\n",
       "      <td>1</td>\n",
       "      <td>2.0</td>\n",
       "      <td>1</td>\n",
       "      <td>1</td>\n",
       "      <td>1</td>\n",
       "      <td>12.423198</td>\n",
       "      <td>8.775240</td>\n",
       "    </tr>\n",
       "    <tr>\n",
       "      <th>4</th>\n",
       "      <td>Res</td>\n",
       "      <td>61.0</td>\n",
       "      <td>1</td>\n",
       "      <td>0</td>\n",
       "      <td>1</td>\n",
       "      <td>AllPub</td>\n",
       "      <td>Inside</td>\n",
       "      <td>1</td>\n",
       "      <td>Gilbert</td>\n",
       "      <td>R</td>\n",
       "      <td>...</td>\n",
       "      <td>167000</td>\n",
       "      <td>1</td>\n",
       "      <td>1758.0</td>\n",
       "      <td>1</td>\n",
       "      <td>2.5</td>\n",
       "      <td>0</td>\n",
       "      <td>0</td>\n",
       "      <td>0</td>\n",
       "      <td>12.025749</td>\n",
       "      <td>9.183380</td>\n",
       "    </tr>\n",
       "  </tbody>\n",
       "</table>\n",
       "<p>5 rows × 60 columns</p>\n",
       "</div>"
      ],
      "text/plain": [
       "  ms_zoning  lot_frontage  street  lot_shape  lot_contour utilities  \\\n",
       "0       Res          80.0       1          1            1    AllPub   \n",
       "1       Res          90.0       1          0            1    AllPub   \n",
       "2       Res          60.0       1          0            1    NoSeWa   \n",
       "3       Res          48.0       1          1            1    AllPub   \n",
       "4       Res          61.0       1          0            1    AllPub   \n",
       "\n",
       "  lot_config  lot_slope neighborhood condition_1  ... sale_price  \\\n",
       "0     Corner          1      SawyerW           N  ...     159000   \n",
       "1    CulDSac          1      SawyerW           N  ...     271900   \n",
       "2    CulDSac          1       Timber           N  ...     137500   \n",
       "3     Inside          1      NridgHt           N  ...     248500   \n",
       "4     Inside          1      Gilbert           R  ...     167000   \n",
       "\n",
       "  has_2nd_floor_sf total_sf  has_basement_sf  total_bath  has_open_porch  \\\n",
       "0                0   2436.0                1         1.5               1   \n",
       "1                0   4354.0                1         2.0               1   \n",
       "2                0   2163.0                1         1.5               1   \n",
       "3                0   2907.0                1         2.0               1   \n",
       "4                1   1758.0                1         2.5               0   \n",
       "\n",
       "  has_fireplace has_wood_deck log_sale_price log_lot_area  \n",
       "0             0             0      11.976659     9.170039  \n",
       "1             1             1      12.513190     9.594514  \n",
       "2             1             0      11.831379     9.573246  \n",
       "3             1             1      12.423198     8.775240  \n",
       "4             0             0      12.025749     9.183380  \n",
       "\n",
       "[5 rows x 60 columns]"
      ]
     },
     "execution_count": 6,
     "metadata": {},
     "output_type": "execute_result"
    }
   ],
   "source": [
    "# View head\n",
    "df.head(5)"
   ]
  },
  {
   "cell_type": "markdown",
   "id": "22b6c16b",
   "metadata": {},
   "source": [
    "# Run model to create a benchmarking criteria"
   ]
  },
  {
   "cell_type": "markdown",
   "id": "17e925d0",
   "metadata": {},
   "source": [
    "#### Create function to run linear regression"
   ]
  },
  {
   "cell_type": "code",
   "execution_count": 7,
   "id": "49a42276",
   "metadata": {},
   "outputs": [],
   "source": [
    "def linreg_bench(X,y,t_s=0.2):\n",
    "    \n",
    "    X_train, X_test, y_train, y_test = train_test_split(X,y, test_size=t_s,random_state=42)\n",
    "    lr = LinearRegression()\n",
    "        \n",
    "    lr.fit(X_train,y_train)\n",
    "    y_train_preds = lr.predict(X_train)\n",
    "    y_test_preds = lr.predict(X_test)\n",
    "    print(\" Benchmarking Model \".center(30, \"=\"))\n",
    "\n",
    "    # train test score\n",
    "    train_r2 = lr.score(X_train,y_train)\n",
    "    test_r2 = lr.score(X_test,y_test)\n",
    "\n",
    "    # cross validation score\n",
    "    mean_cross_val = cross_val_score(lr, X_train, y_train)\n",
    "\n",
    "    # metrics (comparing y_preds with y)\n",
    "    rmse_train = round(metrics.mean_squared_error(y_train,y_train_preds,squared=False),2)\n",
    "    rmse_test = round(metrics.mean_squared_error(y_test,y_test_preds,squared=False),2)\n",
    "\n",
    "    \n",
    "    print(f\"train r2: {train_r2}\")\n",
    "    print(f\"test_r2: {test_r2}\")\n",
    "    print(f\"mean cross val: {mean_cross_val.round(4)}\")\n",
    "    print(f\"train rmse: {rmse_train}\")\n",
    "    print(f\"test rmse: {rmse_test}\")\n",
    "    \n",
    "    return y_test,y_test_preds"
   ]
  },
  {
   "cell_type": "markdown",
   "id": "9a0bbebb",
   "metadata": {},
   "source": [
    "Selecting Columns (Benchmarking will use the top 5 corelated features after cleaning)"
   ]
  },
  {
   "cell_type": "code",
   "execution_count": 8,
   "id": "e0ce8a63",
   "metadata": {},
   "outputs": [],
   "source": [
    "# Selecting all numerical columns\n",
    "num_cols = list(df.corr()['log_sale_price'].sort_values(ascending=False).index)[:12]"
   ]
  },
  {
   "cell_type": "markdown",
   "id": "94f3c74b",
   "metadata": {},
   "source": [
    "Split the data"
   ]
  },
  {
   "cell_type": "code",
   "execution_count": 9,
   "id": "45385393",
   "metadata": {},
   "outputs": [],
   "source": [
    "# Training\n",
    "X = df[num_cols].drop(columns=['sale_price','log_sale_price'])\n",
    "y = df['sale_price']"
   ]
  },
  {
   "cell_type": "code",
   "execution_count": 10,
   "id": "53c209f6",
   "metadata": {},
   "outputs": [],
   "source": [
    "X = pd.get_dummies(columns=list(X.select_dtypes(include='object').columns), data = X, drop_first=True)"
   ]
  },
  {
   "cell_type": "markdown",
   "id": "d4464727",
   "metadata": {},
   "source": [
    "#### Run Model with Sale Price"
   ]
  },
  {
   "cell_type": "code",
   "execution_count": 11,
   "id": "23d643a4",
   "metadata": {
    "scrolled": true
   },
   "outputs": [
    {
     "name": "stdout",
     "output_type": "stream",
     "text": [
      "===== Benchmarking Model =====\n",
      "train r2: 0.854020190678844\n",
      "test_r2: 0.8418053359737462\n",
      "mean cross val: [0.864  0.8409 0.8399 0.8428 0.8502]\n",
      "train rmse: 29844.75\n",
      "test rmse: 30429.11\n"
     ]
    }
   ],
   "source": [
    "y_test,y_test_preds = linreg_bench(X,y,0.3)"
   ]
  },
  {
   "cell_type": "code",
   "execution_count": 12,
   "id": "76342122",
   "metadata": {},
   "outputs": [
    {
     "data": {
      "image/png": "[encoded data removed]",
      "text/plain": [
       "<Figure size 432x432 with 1 Axes>"
      ]
     },
     "metadata": {
      "needs_background": "light"
     },
     "output_type": "display_data"
    }
   ],
   "source": [
    "plt.figure(figsize=(6,6))\n",
    "\n",
    "plt.scatter(x=y_test,y=y_test_preds)\n",
    "cor = np.corrcoef(y_test,y_test_preds)\n",
    "plt.plot(y_test,y_test)\n",
    "\n",
    "plt.xlabel('y_test')\n",
    "plt.ylabel('y_test_preds')\n",
    "plt.title(f\"y_test vs y_test_preds (corr: {cor[0][1].round(4)})\");"
   ]
  },
  {
   "cell_type": "code",
   "execution_count": 13,
   "id": "ba791281",
   "metadata": {},
   "outputs": [
    {
     "data": {
      "image/png": "[encoded data removed]",
      "text/plain": [
       "<Figure size 432x432 with 1 Axes>"
      ]
     },
     "metadata": {
      "needs_background": "light"
     },
     "output_type": "display_data"
    }
   ],
   "source": [
    "plt.figure(figsize=(6,6))\n",
    "\n",
    "\n",
    "sns.histplot(x=y_test,color='grey',alpha=0.5)\n",
    "sns.histplot(x=y_test_preds)\n",
    "cor = np.corrcoef(y_test,y_test_preds)\n",
    "\n",
    "plt.xlabel('y_test')\n",
    "plt.ylabel('y_test_preds')\n",
    "plt.title(f\"y_test vs y_test_preds (corr: {cor[0][1].round(4)})\");"
   ]
  },
  {
   "cell_type": "markdown",
   "id": "6df1a936",
   "metadata": {},
   "source": [
    "__Interpretation:__\n",
    "- We are not predicting very well around the low and high prices\n",
    "- RMSE for benchmarking is 30,429"
   ]
  },
  {
   "cell_type": "markdown",
   "id": "55d0f8ff",
   "metadata": {},
   "source": [
    "----"
   ]
  }
 ],
 "metadata": {
  "kernelspec": {
   "display_name": "Python 3 (ipykernel)",
   "language": "python",
   "name": "python3"
  },
  "language_info": {
   "codemirror_mode": {
    "name": "ipython",
    "version": 3
   },
   "file_extension": ".py",
   "mimetype": "text/x-python",
   "name": "python",
   "nbconvert_exporter": "python",
   "pygments_lexer": "ipython3",
   "version": "3.9.12"
  }
 },
 "nbformat": 4,
 "nbformat_minor": 5
}
