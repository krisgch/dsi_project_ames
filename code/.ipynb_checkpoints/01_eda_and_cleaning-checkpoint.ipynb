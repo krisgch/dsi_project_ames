{
 "cells": [
  {
   "cell_type": "markdown",
   "id": "ad805ba1",
   "metadata": {},
   "source": [
    "# Part 1. EDA and Data Cleaning"
   ]
  },
  {
   "cell_type": "markdown",
   "id": "b70aa3a1",
   "metadata": {},
   "source": [
    "## Importing libraries and setting global variables"
   ]
  },
  {
   "cell_type": "code",
   "execution_count": 1,
   "id": "4a432be9",
   "metadata": {},
   "outputs": [],
   "source": [
    "# Import usual library\n",
    "import pandas as pd\n",
    "import numpy as np\n",
    "import matplotlib.pyplot as plt\n",
    "import seaborn as sns"
   ]
  },
  {
   "cell_type": "code",
   "execution_count": 2,
   "id": "00bb0869",
   "metadata": {},
   "outputs": [],
   "source": [
    "sns.set_palette('bright')"
   ]
  },
  {
   "cell_type": "markdown",
   "id": "d7e019c1",
   "metadata": {},
   "source": [
    "## Importing datasets"
   ]
  },
  {
   "cell_type": "code",
   "execution_count": 3,
   "id": "e0569f20",
   "metadata": {},
   "outputs": [],
   "source": [
    "def read_train_test(status='train'):\n",
    "    # Function to select dataset to read\n",
    "    if status == 'train':\n",
    "        df = pd.read_csv('../datasets/train.csv')\n",
    "    elif status == 'test':\n",
    "        df = pd.read_csv('../datasets/test.csv')\n",
    "    else:\n",
    "        print(f\"Select the correct dataset\")\n",
    "    return df"
   ]
  },
  {
   "cell_type": "code",
   "execution_count": 4,
   "id": "4a1f3014",
   "metadata": {},
   "outputs": [],
   "source": [
    "# Select 'train' to read train.csv\n",
    "# Select 'test' to read test.csv\n",
    "status = 'train'\n",
    "df = read_train_test(status)"
   ]
  },
  {
   "cell_type": "code",
   "execution_count": 5,
   "id": "6719a05e",
   "metadata": {
    "scrolled": false
   },
   "outputs": [
    {
     "data": {
      "text/html": [
       "<div>\n",
       "<style scoped>\n",
       "    .dataframe tbody tr th:only-of-type {\n",
       "        vertical-align: middle;\n",
       "    }\n",
       "\n",
       "    .dataframe tbody tr th {\n",
       "        vertical-align: top;\n",
       "    }\n",
       "\n",
       "    .dataframe thead th {\n",
       "        text-align: right;\n",
       "    }\n",
       "</style>\n",
       "<table border=\"1\" class=\"dataframe\">\n",
       "  <thead>\n",
       "    <tr style=\"text-align: right;\">\n",
       "      <th></th>\n",
       "      <th>Order</th>\n",
       "      <th>PID</th>\n",
       "      <th>MS SubClass</th>\n",
       "      <th>MS Zoning</th>\n",
       "      <th>Lot Frontage</th>\n",
       "      <th>Lot Area</th>\n",
       "      <th>Street</th>\n",
       "      <th>Alley</th>\n",
       "      <th>Lot Shape</th>\n",
       "      <th>Land Contour</th>\n",
       "      <th>...</th>\n",
       "      <th>Pool Area</th>\n",
       "      <th>Pool QC</th>\n",
       "      <th>Fence</th>\n",
       "      <th>Misc Feature</th>\n",
       "      <th>Misc Val</th>\n",
       "      <th>Mo Sold</th>\n",
       "      <th>Yr Sold</th>\n",
       "      <th>Sale Type</th>\n",
       "      <th>Sale Condition</th>\n",
       "      <th>SalePrice</th>\n",
       "    </tr>\n",
       "  </thead>\n",
       "  <tbody>\n",
       "    <tr>\n",
       "      <th>0</th>\n",
       "      <td>534</td>\n",
       "      <td>531363010</td>\n",
       "      <td>20</td>\n",
       "      <td>RL</td>\n",
       "      <td>80.0</td>\n",
       "      <td>9605</td>\n",
       "      <td>Pave</td>\n",
       "      <td>NaN</td>\n",
       "      <td>Reg</td>\n",
       "      <td>Lvl</td>\n",
       "      <td>...</td>\n",
       "      <td>0</td>\n",
       "      <td>NaN</td>\n",
       "      <td>NaN</td>\n",
       "      <td>NaN</td>\n",
       "      <td>0</td>\n",
       "      <td>4</td>\n",
       "      <td>2009</td>\n",
       "      <td>WD</td>\n",
       "      <td>Normal</td>\n",
       "      <td>159000</td>\n",
       "    </tr>\n",
       "    <tr>\n",
       "      <th>1</th>\n",
       "      <td>803</td>\n",
       "      <td>906203120</td>\n",
       "      <td>20</td>\n",
       "      <td>RL</td>\n",
       "      <td>90.0</td>\n",
       "      <td>14684</td>\n",
       "      <td>Pave</td>\n",
       "      <td>NaN</td>\n",
       "      <td>IR1</td>\n",
       "      <td>Lvl</td>\n",
       "      <td>...</td>\n",
       "      <td>0</td>\n",
       "      <td>NaN</td>\n",
       "      <td>NaN</td>\n",
       "      <td>NaN</td>\n",
       "      <td>0</td>\n",
       "      <td>6</td>\n",
       "      <td>2009</td>\n",
       "      <td>WD</td>\n",
       "      <td>Normal</td>\n",
       "      <td>271900</td>\n",
       "    </tr>\n",
       "    <tr>\n",
       "      <th>2</th>\n",
       "      <td>956</td>\n",
       "      <td>916176030</td>\n",
       "      <td>20</td>\n",
       "      <td>RL</td>\n",
       "      <td>NaN</td>\n",
       "      <td>14375</td>\n",
       "      <td>Pave</td>\n",
       "      <td>NaN</td>\n",
       "      <td>IR1</td>\n",
       "      <td>Lvl</td>\n",
       "      <td>...</td>\n",
       "      <td>0</td>\n",
       "      <td>NaN</td>\n",
       "      <td>NaN</td>\n",
       "      <td>NaN</td>\n",
       "      <td>0</td>\n",
       "      <td>1</td>\n",
       "      <td>2009</td>\n",
       "      <td>COD</td>\n",
       "      <td>Abnorml</td>\n",
       "      <td>137500</td>\n",
       "    </tr>\n",
       "    <tr>\n",
       "      <th>3</th>\n",
       "      <td>460</td>\n",
       "      <td>528180130</td>\n",
       "      <td>120</td>\n",
       "      <td>RL</td>\n",
       "      <td>48.0</td>\n",
       "      <td>6472</td>\n",
       "      <td>Pave</td>\n",
       "      <td>NaN</td>\n",
       "      <td>Reg</td>\n",
       "      <td>Lvl</td>\n",
       "      <td>...</td>\n",
       "      <td>0</td>\n",
       "      <td>NaN</td>\n",
       "      <td>NaN</td>\n",
       "      <td>NaN</td>\n",
       "      <td>0</td>\n",
       "      <td>4</td>\n",
       "      <td>2009</td>\n",
       "      <td>WD</td>\n",
       "      <td>Normal</td>\n",
       "      <td>248500</td>\n",
       "    </tr>\n",
       "    <tr>\n",
       "      <th>4</th>\n",
       "      <td>487</td>\n",
       "      <td>528290030</td>\n",
       "      <td>80</td>\n",
       "      <td>RL</td>\n",
       "      <td>61.0</td>\n",
       "      <td>9734</td>\n",
       "      <td>Pave</td>\n",
       "      <td>NaN</td>\n",
       "      <td>IR1</td>\n",
       "      <td>Lvl</td>\n",
       "      <td>...</td>\n",
       "      <td>0</td>\n",
       "      <td>NaN</td>\n",
       "      <td>NaN</td>\n",
       "      <td>NaN</td>\n",
       "      <td>0</td>\n",
       "      <td>5</td>\n",
       "      <td>2009</td>\n",
       "      <td>WD</td>\n",
       "      <td>Normal</td>\n",
       "      <td>167000</td>\n",
       "    </tr>\n",
       "  </tbody>\n",
       "</table>\n",
       "<p>5 rows × 82 columns</p>\n",
       "</div>"
      ],
      "text/plain": [
       "   Order        PID  MS SubClass MS Zoning  Lot Frontage  Lot Area Street  \\\n",
       "0    534  531363010           20        RL          80.0      9605   Pave   \n",
       "1    803  906203120           20        RL          90.0     14684   Pave   \n",
       "2    956  916176030           20        RL           NaN     14375   Pave   \n",
       "3    460  528180130          120        RL          48.0      6472   Pave   \n",
       "4    487  528290030           80        RL          61.0      9734   Pave   \n",
       "\n",
       "  Alley Lot Shape Land Contour  ... Pool Area Pool QC Fence Misc Feature  \\\n",
       "0   NaN       Reg          Lvl  ...         0     NaN   NaN          NaN   \n",
       "1   NaN       IR1          Lvl  ...         0     NaN   NaN          NaN   \n",
       "2   NaN       IR1          Lvl  ...         0     NaN   NaN          NaN   \n",
       "3   NaN       Reg          Lvl  ...         0     NaN   NaN          NaN   \n",
       "4   NaN       IR1          Lvl  ...         0     NaN   NaN          NaN   \n",
       "\n",
       "  Misc Val Mo Sold Yr Sold Sale Type  Sale Condition  SalePrice  \n",
       "0        0       4    2009       WD           Normal     159000  \n",
       "1        0       6    2009       WD           Normal     271900  \n",
       "2        0       1    2009       COD         Abnorml     137500  \n",
       "3        0       4    2009       WD           Normal     248500  \n",
       "4        0       5    2009       WD           Normal     167000  \n",
       "\n",
       "[5 rows x 82 columns]"
      ]
     },
     "execution_count": 5,
     "metadata": {},
     "output_type": "execute_result"
    }
   ],
   "source": [
    "# View head\n",
    "df.head(5)"
   ]
  },
  {
   "cell_type": "code",
   "execution_count": 6,
   "id": "73df9213",
   "metadata": {},
   "outputs": [],
   "source": [
    "# Create a dictionary to rename columns\n",
    "col_name_dict = {'Order':'Order', 'PID':'pid', 'MS SubClass':'ms_subclass', 'MS Zoning':'ms_zoning',\n",
    "                 'Lot Frontage':'lot_frontage', 'Lot Area':'lot_area','Street':'street','Alley':'alley',\n",
    "                 'Lot Shape':'lot_shape', 'Land Contour':'lot_contour', 'Utilities':'utilities',\n",
    "                 'Lot Config':'lot_config', 'Land Slope':'lot_slope', 'Neighborhood':'neighborhood',\n",
    "                 'Condition 1':'condition_1','Condition 2':'condition_2', 'Bldg Type':'building_type',\n",
    "                 'House Style':'house_style', 'Overall Qual':'overall_quality','Overall Cond':'overall_condition',\n",
    "                 'Year Built':'year_built', 'Year Remod/Add':'year_remodel', 'Roof Style':'roof_style',\n",
    "                 'Roof Matl':'roof_material', 'Exterior 1st':'exterior_1', 'Exterior 2nd':'exterior_2',\n",
    "                 'Mas Vnr Type':'masonry_type','Mas Vnr Area':'masonry_area', 'Exter Qual':'external_quality',\n",
    "                 'Exter Cond':'external_condition', 'Foundation':'foundation', 'Bsmt Qual':'basement_quality',\n",
    "                 'Bsmt Cond':'basement_condition', 'Bsmt Exposure':'basement_exposure',\n",
    "                 'BsmtFin Type 1':'basement_fin_type_1', 'BsmtFin SF 1':'basement_fin_sf_1',\n",
    "                 'BsmtFin Type 2':'basement_fin_type_2', 'BsmtFin SF 2':'basement_fin_sf_2',\n",
    "                 'Bsmt Unf SF':'basement_unf_sf', 'Total Bsmt SF':'total_basement_sf','Heating':'heating',\n",
    "                 'Heating QC':'heating_quality', 'Central Air':'central_air', 'Electrical':'electrical',\n",
    "                 '1st Flr SF':'1st_floor_sf','2nd Flr SF':'2nd_floor_sf', 'Low Qual Fin SF':'low_quality_fin_sf',\n",
    "                 'Gr Liv Area':'ground_living_sf', 'Bsmt Full Bath':'basement_full_bath',\n",
    "                 'Bsmt Half Bath':'basement_half_bath', 'Full Bath':'full_bath', 'Half Bath':'half_bath',\n",
    "                 'Bedroom AbvGr':'bedroom_above_ground','Kitchen AbvGr':'kitchen_above_ground',\n",
    "                 'Kitchen Qual':'kitchen_quality', 'TotRms AbvGrd':'total_rooms_above_ground', \n",
    "                 'Functional':'functional','Fireplaces':'fireplace', 'Fireplace Qu':'fireplace_quality',\n",
    "                 'Garage Type':'garage_type', 'Garage Yr Blt':'garage_year_built','Garage Finish':'garage_fin',\n",
    "                 'Garage Cars':'garage_cars', 'Garage Area':'garage_area', 'Garage Qual':'garage_quality',\n",
    "                 'Garage Cond':'garage_condition', 'Paved Drive':'paved_drive', 'Wood Deck SF':'wood_deck_sf',\n",
    "                 'Open Porch SF':'open_porch_sf','Enclosed Porch':'enclosed_porch', '3Ssn Porch':'3ssn_porch',\n",
    "                 'Screen Porch':'screen_porch', 'Pool Area':'pool_area', 'Pool QC':'pool_quality','Fence':'fence',\n",
    "                 'Misc Feature':'misc_feature', 'Misc Val':'misc_value', 'Mo Sold':'month_sold',\n",
    "                 'Yr Sold':'year_sold', 'Sale Type':'sale_type','Sale Condition':'sale_condition',\n",
    "                 'SalePrice':'sale_price'}"
   ]
  },
  {
   "cell_type": "code",
   "execution_count": 7,
   "id": "0607f332",
   "metadata": {
    "scrolled": true
   },
   "outputs": [],
   "source": [
    "# Rename columns\n",
    "df = df.rename(columns=col_name_dict)"
   ]
  },
  {
   "cell_type": "code",
   "execution_count": 8,
   "id": "f7d10011",
   "metadata": {
    "scrolled": true
   },
   "outputs": [
    {
     "data": {
      "text/plain": [
       "(2197, 82)"
      ]
     },
     "execution_count": 8,
     "metadata": {},
     "output_type": "execute_result"
    }
   ],
   "source": [
    "# Verify shape of df\n",
    "df.shape"
   ]
  },
  {
   "cell_type": "markdown",
   "id": "5c145034",
   "metadata": {},
   "source": [
    "## Dealing with null values"
   ]
  },
  {
   "cell_type": "markdown",
   "id": "b7552539",
   "metadata": {},
   "source": [
    "#### Grouping of actionable columns"
   ]
  },
  {
   "cell_type": "code",
   "execution_count": 9,
   "id": "a6b4bda3",
   "metadata": {},
   "outputs": [],
   "source": [
    "# Creating sets of actionable columns\n",
    "fill_by_drop = []\n",
    "fill_by_impute_na = []\n",
    "fill_by_impute_0 = []\n",
    "fill_by_impute_none = []\n",
    "fill_by_impute_stats = []"
   ]
  },
  {
   "cell_type": "code",
   "execution_count": 10,
   "id": "6ff9923c",
   "metadata": {
    "scrolled": false
   },
   "outputs": [
    {
     "data": {
      "text/plain": [
       "pool_quality           0.994538\n",
       "misc_feature           0.963587\n",
       "alley                  0.934911\n",
       "fence                  0.809285\n",
       "fireplace_quality      0.485207\n",
       "lot_frontage           0.164770\n",
       "garage_condition       0.055530\n",
       "garage_quality         0.055530\n",
       "garage_fin             0.055530\n",
       "garage_year_built      0.055530\n",
       "garage_type            0.054620\n",
       "basement_exposure      0.031406\n",
       "basement_fin_type_2    0.030951\n",
       "basement_fin_type_1    0.030496\n",
       "basement_quality       0.030496\n",
       "basement_condition     0.030496\n",
       "masonry_area           0.010014\n",
       "masonry_type           0.010014\n",
       "basement_half_bath     0.000455\n",
       "basement_full_bath     0.000455\n",
       "total_basement_sf      0.000455\n",
       "basement_unf_sf        0.000455\n",
       "garage_cars            0.000455\n",
       "garage_area            0.000455\n",
       "basement_fin_sf_2      0.000455\n",
       "basement_fin_sf_1      0.000455\n",
       "electrical             0.000455\n",
       "dtype: float64"
      ]
     },
     "execution_count": 10,
     "metadata": {},
     "output_type": "execute_result"
    }
   ],
   "source": [
    "# Check nulls values\n",
    "df.isnull().mean()[df.isnull().sum() > 0].sort_values(ascending=False)"
   ]
  },
  {
   "cell_type": "markdown",
   "id": "5e7006df",
   "metadata": {},
   "source": [
    "#### Columns with over 80% missing values"
   ]
  },
  {
   "cell_type": "code",
   "execution_count": 11,
   "id": "0dee1d54",
   "metadata": {},
   "outputs": [],
   "source": [
    "# 4 columns has over 80% of missing values (we can drop these)\n",
    "# moving these columns to actionable list\n",
    "fill_by_drop.extend(['pool_quality','misc_feature','alley','fence'])"
   ]
  },
  {
   "cell_type": "markdown",
   "id": "6b50279b",
   "metadata": {},
   "source": [
    "#### Fireplace Quality"
   ]
  },
  {
   "cell_type": "code",
   "execution_count": 12,
   "id": "f181c1bc",
   "metadata": {},
   "outputs": [
    {
     "data": {
      "text/html": [
       "<div>\n",
       "<style scoped>\n",
       "    .dataframe tbody tr th:only-of-type {\n",
       "        vertical-align: middle;\n",
       "    }\n",
       "\n",
       "    .dataframe tbody tr th {\n",
       "        vertical-align: top;\n",
       "    }\n",
       "\n",
       "    .dataframe thead tr th {\n",
       "        text-align: left;\n",
       "    }\n",
       "\n",
       "    .dataframe thead tr:last-of-type th {\n",
       "        text-align: right;\n",
       "    }\n",
       "</style>\n",
       "<table border=\"1\" class=\"dataframe\">\n",
       "  <thead>\n",
       "    <tr>\n",
       "      <th></th>\n",
       "      <th colspan=\"2\" halign=\"left\">fireplace</th>\n",
       "    </tr>\n",
       "    <tr>\n",
       "      <th></th>\n",
       "      <th>mode</th>\n",
       "      <th>count</th>\n",
       "    </tr>\n",
       "    <tr>\n",
       "      <th>fireplace_quality</th>\n",
       "      <th></th>\n",
       "      <th></th>\n",
       "    </tr>\n",
       "  </thead>\n",
       "  <tbody>\n",
       "    <tr>\n",
       "      <th>Ex</th>\n",
       "      <td>1</td>\n",
       "      <td>30</td>\n",
       "    </tr>\n",
       "    <tr>\n",
       "      <th>Fa</th>\n",
       "      <td>1</td>\n",
       "      <td>50</td>\n",
       "    </tr>\n",
       "    <tr>\n",
       "      <th>Gd</th>\n",
       "      <td>1</td>\n",
       "      <td>564</td>\n",
       "    </tr>\n",
       "    <tr>\n",
       "      <th>Po</th>\n",
       "      <td>1</td>\n",
       "      <td>33</td>\n",
       "    </tr>\n",
       "    <tr>\n",
       "      <th>TA</th>\n",
       "      <td>1</td>\n",
       "      <td>454</td>\n",
       "    </tr>\n",
       "    <tr>\n",
       "      <th>NaN</th>\n",
       "      <td>0</td>\n",
       "      <td>1066</td>\n",
       "    </tr>\n",
       "  </tbody>\n",
       "</table>\n",
       "</div>"
      ],
      "text/plain": [
       "                  fireplace      \n",
       "                       mode count\n",
       "fireplace_quality                \n",
       "Ex                        1    30\n",
       "Fa                        1    50\n",
       "Gd                        1   564\n",
       "Po                        1    33\n",
       "TA                        1   454\n",
       "NaN                       0  1066"
      ]
     },
     "execution_count": 12,
     "metadata": {},
     "output_type": "execute_result"
    }
   ],
   "source": [
    "# Missing fireplace_quality means no fireplace at all - impute with 'None'\n",
    "df.groupby(['fireplace_quality'],dropna=False)[['fireplace']].agg([pd.Series.mode,'count'])"
   ]
  },
  {
   "cell_type": "code",
   "execution_count": 13,
   "id": "9009fc00",
   "metadata": {},
   "outputs": [],
   "source": [
    "# Action allocation - Move fireplace_quality to columns to impute with 'None'\n",
    "fill_by_impute_none.append('fireplace_quality')"
   ]
  },
  {
   "cell_type": "markdown",
   "id": "c230e346",
   "metadata": {},
   "source": [
    "#### Masonry Type and Area"
   ]
  },
  {
   "cell_type": "code",
   "execution_count": 14,
   "id": "d7b2b28c",
   "metadata": {
    "scrolled": true
   },
   "outputs": [
    {
     "data": {
      "text/html": [
       "<div>\n",
       "<style scoped>\n",
       "    .dataframe tbody tr th:only-of-type {\n",
       "        vertical-align: middle;\n",
       "    }\n",
       "\n",
       "    .dataframe tbody tr th {\n",
       "        vertical-align: top;\n",
       "    }\n",
       "\n",
       "    .dataframe thead tr th {\n",
       "        text-align: left;\n",
       "    }\n",
       "\n",
       "    .dataframe thead tr:last-of-type th {\n",
       "        text-align: right;\n",
       "    }\n",
       "</style>\n",
       "<table border=\"1\" class=\"dataframe\">\n",
       "  <thead>\n",
       "    <tr>\n",
       "      <th></th>\n",
       "      <th colspan=\"2\" halign=\"left\">masonry_area</th>\n",
       "    </tr>\n",
       "    <tr>\n",
       "      <th></th>\n",
       "      <th>mode</th>\n",
       "      <th>count</th>\n",
       "    </tr>\n",
       "    <tr>\n",
       "      <th>masonry_type</th>\n",
       "      <th></th>\n",
       "      <th></th>\n",
       "    </tr>\n",
       "  </thead>\n",
       "  <tbody>\n",
       "    <tr>\n",
       "      <th>BrkCmn</th>\n",
       "      <td>161.0</td>\n",
       "      <td>19</td>\n",
       "    </tr>\n",
       "    <tr>\n",
       "      <th>BrkFace</th>\n",
       "      <td>120.0</td>\n",
       "      <td>658</td>\n",
       "    </tr>\n",
       "    <tr>\n",
       "      <th>CBlock</th>\n",
       "      <td>198.0</td>\n",
       "      <td>1</td>\n",
       "    </tr>\n",
       "    <tr>\n",
       "      <th>None</th>\n",
       "      <td>0.0</td>\n",
       "      <td>1307</td>\n",
       "    </tr>\n",
       "    <tr>\n",
       "      <th>Stone</th>\n",
       "      <td>186.0</td>\n",
       "      <td>190</td>\n",
       "    </tr>\n",
       "    <tr>\n",
       "      <th>NaN</th>\n",
       "      <td>[]</td>\n",
       "      <td>0</td>\n",
       "    </tr>\n",
       "  </tbody>\n",
       "</table>\n",
       "</div>"
      ],
      "text/plain": [
       "             masonry_area      \n",
       "                     mode count\n",
       "masonry_type                   \n",
       "BrkCmn              161.0    19\n",
       "BrkFace             120.0   658\n",
       "CBlock              198.0     1\n",
       "None                  0.0  1307\n",
       "Stone               186.0   190\n",
       "NaN                    []     0"
      ]
     },
     "execution_count": 14,
     "metadata": {},
     "output_type": "execute_result"
    }
   ],
   "source": [
    "# missing masonry area means no masonry - we can set to the mode \n",
    "# masonry_type impute None\n",
    "# masonry_area impute 0\n",
    "df.groupby(['masonry_type'],dropna=False)[['masonry_area']].agg([pd.Series.mode,'count'])"
   ]
  },
  {
   "cell_type": "code",
   "execution_count": 15,
   "id": "ae3580bc",
   "metadata": {},
   "outputs": [],
   "source": [
    "# action allocation - moving masonry type to impute with none\n",
    "fill_by_impute_none.append('masonry_type')\n",
    "# action allocation - moving masonry area to impute with 0\n",
    "fill_by_impute_0.append('masonry_area')"
   ]
  },
  {
   "cell_type": "markdown",
   "id": "c2a466c5",
   "metadata": {},
   "source": [
    "#### Lot Frontage"
   ]
  },
  {
   "cell_type": "code",
   "execution_count": 16,
   "id": "6adcce8e",
   "metadata": {
    "scrolled": false
   },
   "outputs": [
    {
     "data": {
      "text/html": [
       "<div>\n",
       "<style scoped>\n",
       "    .dataframe tbody tr th:only-of-type {\n",
       "        vertical-align: middle;\n",
       "    }\n",
       "\n",
       "    .dataframe tbody tr th {\n",
       "        vertical-align: top;\n",
       "    }\n",
       "\n",
       "    .dataframe thead tr th {\n",
       "        text-align: left;\n",
       "    }\n",
       "\n",
       "    .dataframe thead tr:last-of-type th {\n",
       "        text-align: right;\n",
       "    }\n",
       "</style>\n",
       "<table border=\"1\" class=\"dataframe\">\n",
       "  <thead>\n",
       "    <tr>\n",
       "      <th></th>\n",
       "      <th colspan=\"2\" halign=\"left\">lot_area</th>\n",
       "      <th colspan=\"2\" halign=\"left\">lot_shape</th>\n",
       "    </tr>\n",
       "    <tr>\n",
       "      <th></th>\n",
       "      <th>mode</th>\n",
       "      <th>count</th>\n",
       "      <th>mode</th>\n",
       "      <th>count</th>\n",
       "    </tr>\n",
       "    <tr>\n",
       "      <th>lot_frontage</th>\n",
       "      <th></th>\n",
       "      <th></th>\n",
       "      <th></th>\n",
       "      <th></th>\n",
       "    </tr>\n",
       "  </thead>\n",
       "  <tbody>\n",
       "    <tr>\n",
       "      <th>21.0</th>\n",
       "      <td>1680</td>\n",
       "      <td>34</td>\n",
       "      <td>Reg</td>\n",
       "      <td>34</td>\n",
       "    </tr>\n",
       "    <tr>\n",
       "      <th>24.0</th>\n",
       "      <td>2280</td>\n",
       "      <td>32</td>\n",
       "      <td>Reg</td>\n",
       "      <td>32</td>\n",
       "    </tr>\n",
       "    <tr>\n",
       "      <th>25.0</th>\n",
       "      <td>4835</td>\n",
       "      <td>1</td>\n",
       "      <td>IR1</td>\n",
       "      <td>1</td>\n",
       "    </tr>\n",
       "    <tr>\n",
       "      <th>26.0</th>\n",
       "      <td>[8773, 10943]</td>\n",
       "      <td>2</td>\n",
       "      <td>IR2</td>\n",
       "      <td>2</td>\n",
       "    </tr>\n",
       "    <tr>\n",
       "      <th>28.0</th>\n",
       "      <td>7296</td>\n",
       "      <td>1</td>\n",
       "      <td>IR1</td>\n",
       "      <td>1</td>\n",
       "    </tr>\n",
       "    <tr>\n",
       "      <th>...</th>\n",
       "      <td>...</td>\n",
       "      <td>...</td>\n",
       "      <td>...</td>\n",
       "      <td>...</td>\n",
       "    </tr>\n",
       "    <tr>\n",
       "      <th>182.0</th>\n",
       "      <td>14572</td>\n",
       "      <td>1</td>\n",
       "      <td>IR3</td>\n",
       "      <td>1</td>\n",
       "    </tr>\n",
       "    <tr>\n",
       "      <th>195.0</th>\n",
       "      <td>41600</td>\n",
       "      <td>1</td>\n",
       "      <td>IR1</td>\n",
       "      <td>1</td>\n",
       "    </tr>\n",
       "    <tr>\n",
       "      <th>200.0</th>\n",
       "      <td>43500</td>\n",
       "      <td>1</td>\n",
       "      <td>Reg</td>\n",
       "      <td>1</td>\n",
       "    </tr>\n",
       "    <tr>\n",
       "      <th>313.0</th>\n",
       "      <td>63887</td>\n",
       "      <td>1</td>\n",
       "      <td>IR3</td>\n",
       "      <td>1</td>\n",
       "    </tr>\n",
       "    <tr>\n",
       "      <th>NaN</th>\n",
       "      <td>7500</td>\n",
       "      <td>362</td>\n",
       "      <td>IR1</td>\n",
       "      <td>362</td>\n",
       "    </tr>\n",
       "  </tbody>\n",
       "</table>\n",
       "<p>123 rows × 4 columns</p>\n",
       "</div>"
      ],
      "text/plain": [
       "                   lot_area       lot_shape      \n",
       "                       mode count      mode count\n",
       "lot_frontage                                     \n",
       "21.0                   1680    34       Reg    34\n",
       "24.0                   2280    32       Reg    32\n",
       "25.0                   4835     1       IR1     1\n",
       "26.0          [8773, 10943]     2       IR2     2\n",
       "28.0                   7296     1       IR1     1\n",
       "...                     ...   ...       ...   ...\n",
       "182.0                 14572     1       IR3     1\n",
       "195.0                 41600     1       IR1     1\n",
       "200.0                 43500     1       Reg     1\n",
       "313.0                 63887     1       IR3     1\n",
       "NaN                    7500   362       IR1   362\n",
       "\n",
       "[123 rows x 4 columns]"
      ]
     },
     "execution_count": 16,
     "metadata": {},
     "output_type": "execute_result"
    }
   ],
   "source": [
    "# missing lot frontage\n",
    "df.groupby(['lot_frontage'],dropna=False)[['lot_area','lot_shape']].agg([pd.Series.mode,'count'])"
   ]
  },
  {
   "cell_type": "code",
   "execution_count": 17,
   "id": "93500f5e",
   "metadata": {
    "scrolled": true
   },
   "outputs": [
    {
     "name": "stdout",
     "output_type": "stream",
     "text": [
      "Mode lot area for missing lot frontage: 7500\n",
      "Mode lot area for missing lot frontage: IR1\n",
      "Mode lot frontage for 7500,IR1 : nan\n"
     ]
    },
    {
     "data": {
      "image/png": "[encoded data removed]",
      "text/plain": [
       "<Figure size 720x288 with 1 Axes>"
      ]
     },
     "metadata": {
      "needs_background": "light"
     },
     "output_type": "display_data"
    }
   ],
   "source": [
    "# Majority of missing values seems to be\n",
    "# lot_shape = IR1\n",
    "# lot_area = 7,500\n",
    "\n",
    "print(f\"Mode lot area for missing lot frontage: {df[df['lot_frontage'].isnull()]['lot_area'].mode()[0]}\")\n",
    "print(f\"Mode lot area for missing lot frontage: {df[df['lot_frontage'].isnull()]['lot_shape'].mode()[0]}\")\n",
    "\n",
    "print(f\"Mode lot frontage for 7500,IR1 : {df[(df['lot_area'] == 7500) & (df['lot_shape']=='IR1')]['lot_frontage'].mean()}\")\n",
    "\n",
    "fig, ax = plt.subplots(figsize=(10,4))\n",
    "\n",
    "sns.histplot(x='lot_area',data=df[df['lot_frontage'].isnull()], hue='lot_shape');"
   ]
  },
  {
   "cell_type": "code",
   "execution_count": 18,
   "id": "cdc7a690",
   "metadata": {},
   "outputs": [
    {
     "data": {
      "image/png": "[encoded data removed]",
      "text/plain": [
       "<Figure size 432x288 with 1 Axes>"
      ]
     },
     "metadata": {
      "needs_background": "light"
     },
     "output_type": "display_data"
    }
   ],
   "source": [
    "# Check lot_frontage corresponding to lot_area 7500, IR1\n",
    "# Let's try to impute with lot_frontage missing with 74\n",
    "# for lot_shape of IR1 and lot_area of approx. 7000\n",
    "\n",
    "sns.histplot(x='lot_frontage', data = df[df['lot_shape']=='IR1'], bins=60);"
   ]
  },
  {
   "cell_type": "code",
   "execution_count": 19,
   "id": "2cb456ee",
   "metadata": {
    "scrolled": false
   },
   "outputs": [
    {
     "data": {
      "image/png": "[encoded data removed]",
      "text/plain": [
       "<Figure size 432x288 with 1 Axes>"
      ]
     },
     "metadata": {
      "needs_background": "light"
     },
     "output_type": "display_data"
    }
   ],
   "source": [
    "sns.scatterplot(x='lot_frontage',y='sale_price', data=df);"
   ]
  },
  {
   "cell_type": "code",
   "execution_count": 20,
   "id": "ffa8320b",
   "metadata": {},
   "outputs": [],
   "source": [
    "df['lot_frontage'].fillna(60,inplace=True)"
   ]
  },
  {
   "cell_type": "code",
   "execution_count": 21,
   "id": "d18e3259",
   "metadata": {
    "scrolled": false
   },
   "outputs": [
    {
     "data": {
      "image/png": "[encoded data removed]",
      "text/plain": [
       "<Figure size 432x288 with 1 Axes>"
      ]
     },
     "metadata": {
      "needs_background": "light"
     },
     "output_type": "display_data"
    }
   ],
   "source": [
    "sns.scatterplot(x='lot_frontage',y='sale_price', data=df);"
   ]
  },
  {
   "cell_type": "code",
   "execution_count": 22,
   "id": "fc98bc06",
   "metadata": {},
   "outputs": [],
   "source": [
    "# moving to impute with stats\n",
    "fill_by_impute_stats.append('lot_frontage')"
   ]
  },
  {
   "cell_type": "code",
   "execution_count": 23,
   "id": "54bf0924",
   "metadata": {},
   "outputs": [
    {
     "data": {
      "text/html": [
       "<div>\n",
       "<style scoped>\n",
       "    .dataframe tbody tr th:only-of-type {\n",
       "        vertical-align: middle;\n",
       "    }\n",
       "\n",
       "    .dataframe tbody tr th {\n",
       "        vertical-align: top;\n",
       "    }\n",
       "\n",
       "    .dataframe thead th {\n",
       "        text-align: right;\n",
       "    }\n",
       "</style>\n",
       "<table border=\"1\" class=\"dataframe\">\n",
       "  <thead>\n",
       "    <tr style=\"text-align: right;\">\n",
       "      <th></th>\n",
       "      <th>garage_type</th>\n",
       "      <th>garage_year_built</th>\n",
       "      <th>garage_fin</th>\n",
       "      <th>garage_cars</th>\n",
       "      <th>garage_area</th>\n",
       "      <th>garage_quality</th>\n",
       "      <th>garage_condition</th>\n",
       "    </tr>\n",
       "  </thead>\n",
       "  <tbody>\n",
       "    <tr>\n",
       "      <th>39</th>\n",
       "      <td>NaN</td>\n",
       "      <td>NaN</td>\n",
       "      <td>NaN</td>\n",
       "      <td>0.0</td>\n",
       "      <td>0.0</td>\n",
       "      <td>NaN</td>\n",
       "      <td>NaN</td>\n",
       "    </tr>\n",
       "    <tr>\n",
       "      <th>43</th>\n",
       "      <td>NaN</td>\n",
       "      <td>NaN</td>\n",
       "      <td>NaN</td>\n",
       "      <td>0.0</td>\n",
       "      <td>0.0</td>\n",
       "      <td>NaN</td>\n",
       "      <td>NaN</td>\n",
       "    </tr>\n",
       "    <tr>\n",
       "      <th>53</th>\n",
       "      <td>NaN</td>\n",
       "      <td>NaN</td>\n",
       "      <td>NaN</td>\n",
       "      <td>0.0</td>\n",
       "      <td>0.0</td>\n",
       "      <td>NaN</td>\n",
       "      <td>NaN</td>\n",
       "    </tr>\n",
       "    <tr>\n",
       "      <th>61</th>\n",
       "      <td>NaN</td>\n",
       "      <td>NaN</td>\n",
       "      <td>NaN</td>\n",
       "      <td>0.0</td>\n",
       "      <td>0.0</td>\n",
       "      <td>NaN</td>\n",
       "      <td>NaN</td>\n",
       "    </tr>\n",
       "    <tr>\n",
       "      <th>63</th>\n",
       "      <td>NaN</td>\n",
       "      <td>NaN</td>\n",
       "      <td>NaN</td>\n",
       "      <td>0.0</td>\n",
       "      <td>0.0</td>\n",
       "      <td>NaN</td>\n",
       "      <td>NaN</td>\n",
       "    </tr>\n",
       "    <tr>\n",
       "      <th>...</th>\n",
       "      <td>...</td>\n",
       "      <td>...</td>\n",
       "      <td>...</td>\n",
       "      <td>...</td>\n",
       "      <td>...</td>\n",
       "      <td>...</td>\n",
       "      <td>...</td>\n",
       "    </tr>\n",
       "    <tr>\n",
       "      <th>2121</th>\n",
       "      <td>NaN</td>\n",
       "      <td>NaN</td>\n",
       "      <td>NaN</td>\n",
       "      <td>0.0</td>\n",
       "      <td>0.0</td>\n",
       "      <td>NaN</td>\n",
       "      <td>NaN</td>\n",
       "    </tr>\n",
       "    <tr>\n",
       "      <th>2144</th>\n",
       "      <td>NaN</td>\n",
       "      <td>NaN</td>\n",
       "      <td>NaN</td>\n",
       "      <td>0.0</td>\n",
       "      <td>0.0</td>\n",
       "      <td>NaN</td>\n",
       "      <td>NaN</td>\n",
       "    </tr>\n",
       "    <tr>\n",
       "      <th>2153</th>\n",
       "      <td>NaN</td>\n",
       "      <td>NaN</td>\n",
       "      <td>NaN</td>\n",
       "      <td>0.0</td>\n",
       "      <td>0.0</td>\n",
       "      <td>NaN</td>\n",
       "      <td>NaN</td>\n",
       "    </tr>\n",
       "    <tr>\n",
       "      <th>2175</th>\n",
       "      <td>NaN</td>\n",
       "      <td>NaN</td>\n",
       "      <td>NaN</td>\n",
       "      <td>0.0</td>\n",
       "      <td>0.0</td>\n",
       "      <td>NaN</td>\n",
       "      <td>NaN</td>\n",
       "    </tr>\n",
       "    <tr>\n",
       "      <th>2188</th>\n",
       "      <td>NaN</td>\n",
       "      <td>NaN</td>\n",
       "      <td>NaN</td>\n",
       "      <td>0.0</td>\n",
       "      <td>0.0</td>\n",
       "      <td>NaN</td>\n",
       "      <td>NaN</td>\n",
       "    </tr>\n",
       "  </tbody>\n",
       "</table>\n",
       "<p>122 rows × 7 columns</p>\n",
       "</div>"
      ],
      "text/plain": [
       "     garage_type  garage_year_built garage_fin  garage_cars  garage_area  \\\n",
       "39           NaN                NaN        NaN          0.0          0.0   \n",
       "43           NaN                NaN        NaN          0.0          0.0   \n",
       "53           NaN                NaN        NaN          0.0          0.0   \n",
       "61           NaN                NaN        NaN          0.0          0.0   \n",
       "63           NaN                NaN        NaN          0.0          0.0   \n",
       "...          ...                ...        ...          ...          ...   \n",
       "2121         NaN                NaN        NaN          0.0          0.0   \n",
       "2144         NaN                NaN        NaN          0.0          0.0   \n",
       "2153         NaN                NaN        NaN          0.0          0.0   \n",
       "2175         NaN                NaN        NaN          0.0          0.0   \n",
       "2188         NaN                NaN        NaN          0.0          0.0   \n",
       "\n",
       "     garage_quality garage_condition  \n",
       "39              NaN              NaN  \n",
       "43              NaN              NaN  \n",
       "53              NaN              NaN  \n",
       "61              NaN              NaN  \n",
       "63              NaN              NaN  \n",
       "...             ...              ...  \n",
       "2121            NaN              NaN  \n",
       "2144            NaN              NaN  \n",
       "2153            NaN              NaN  \n",
       "2175            NaN              NaN  \n",
       "2188            NaN              NaN  \n",
       "\n",
       "[122 rows x 7 columns]"
      ]
     },
     "execution_count": 23,
     "metadata": {},
     "output_type": "execute_result"
    }
   ],
   "source": [
    "# everything is missing for the case of garage group - meaning no garage at all\n",
    "df[df['garage_condition'].isnull()][['garage_type', 'garage_year_built', 'garage_fin', 'garage_cars',\n",
    "       'garage_area', 'garage_quality', 'garage_condition']]"
   ]
  },
  {
   "cell_type": "code",
   "execution_count": 24,
   "id": "7dc75aba",
   "metadata": {},
   "outputs": [],
   "source": [
    "# move garage columns to impute with na\n",
    "fill_by_impute_na.extend(['garage_type','garage_year_built','garage_fin','garage_quality','garage_condition'])\n",
    "\n",
    "# move garage columns to impute with 0\n",
    "fill_by_impute_0.extend(['garage_cars','garage_area'])"
   ]
  },
  {
   "cell_type": "code",
   "execution_count": 25,
   "id": "2aeb9747",
   "metadata": {},
   "outputs": [
    {
     "data": {
      "text/html": [
       "<div>\n",
       "<style scoped>\n",
       "    .dataframe tbody tr th:only-of-type {\n",
       "        vertical-align: middle;\n",
       "    }\n",
       "\n",
       "    .dataframe tbody tr th {\n",
       "        vertical-align: top;\n",
       "    }\n",
       "\n",
       "    .dataframe thead th {\n",
       "        text-align: right;\n",
       "    }\n",
       "</style>\n",
       "<table border=\"1\" class=\"dataframe\">\n",
       "  <thead>\n",
       "    <tr style=\"text-align: right;\">\n",
       "      <th></th>\n",
       "      <th>basement_quality</th>\n",
       "      <th>basement_condition</th>\n",
       "      <th>basement_exposure</th>\n",
       "      <th>basement_fin_type_1</th>\n",
       "      <th>basement_fin_sf_1</th>\n",
       "      <th>basement_fin_type_2</th>\n",
       "      <th>basement_fin_sf_2</th>\n",
       "      <th>basement_unf_sf</th>\n",
       "      <th>total_basement_sf</th>\n",
       "      <th>basement_full_bath</th>\n",
       "      <th>basement_half_bath</th>\n",
       "    </tr>\n",
       "  </thead>\n",
       "  <tbody>\n",
       "    <tr>\n",
       "      <th>99</th>\n",
       "      <td>NaN</td>\n",
       "      <td>NaN</td>\n",
       "      <td>NaN</td>\n",
       "      <td>NaN</td>\n",
       "      <td>0.0</td>\n",
       "      <td>NaN</td>\n",
       "      <td>0.0</td>\n",
       "      <td>0.0</td>\n",
       "      <td>0.0</td>\n",
       "      <td>0.0</td>\n",
       "      <td>0.0</td>\n",
       "    </tr>\n",
       "    <tr>\n",
       "      <th>141</th>\n",
       "      <td>NaN</td>\n",
       "      <td>NaN</td>\n",
       "      <td>NaN</td>\n",
       "      <td>NaN</td>\n",
       "      <td>0.0</td>\n",
       "      <td>NaN</td>\n",
       "      <td>0.0</td>\n",
       "      <td>0.0</td>\n",
       "      <td>0.0</td>\n",
       "      <td>0.0</td>\n",
       "      <td>0.0</td>\n",
       "    </tr>\n",
       "    <tr>\n",
       "      <th>162</th>\n",
       "      <td>NaN</td>\n",
       "      <td>NaN</td>\n",
       "      <td>NaN</td>\n",
       "      <td>NaN</td>\n",
       "      <td>0.0</td>\n",
       "      <td>NaN</td>\n",
       "      <td>0.0</td>\n",
       "      <td>0.0</td>\n",
       "      <td>0.0</td>\n",
       "      <td>0.0</td>\n",
       "      <td>0.0</td>\n",
       "    </tr>\n",
       "    <tr>\n",
       "      <th>165</th>\n",
       "      <td>NaN</td>\n",
       "      <td>NaN</td>\n",
       "      <td>NaN</td>\n",
       "      <td>NaN</td>\n",
       "      <td>0.0</td>\n",
       "      <td>NaN</td>\n",
       "      <td>0.0</td>\n",
       "      <td>0.0</td>\n",
       "      <td>0.0</td>\n",
       "      <td>0.0</td>\n",
       "      <td>0.0</td>\n",
       "    </tr>\n",
       "    <tr>\n",
       "      <th>168</th>\n",
       "      <td>NaN</td>\n",
       "      <td>NaN</td>\n",
       "      <td>NaN</td>\n",
       "      <td>NaN</td>\n",
       "      <td>0.0</td>\n",
       "      <td>NaN</td>\n",
       "      <td>0.0</td>\n",
       "      <td>0.0</td>\n",
       "      <td>0.0</td>\n",
       "      <td>0.0</td>\n",
       "      <td>0.0</td>\n",
       "    </tr>\n",
       "    <tr>\n",
       "      <th>...</th>\n",
       "      <td>...</td>\n",
       "      <td>...</td>\n",
       "      <td>...</td>\n",
       "      <td>...</td>\n",
       "      <td>...</td>\n",
       "      <td>...</td>\n",
       "      <td>...</td>\n",
       "      <td>...</td>\n",
       "      <td>...</td>\n",
       "      <td>...</td>\n",
       "      <td>...</td>\n",
       "    </tr>\n",
       "    <tr>\n",
       "      <th>2020</th>\n",
       "      <td>NaN</td>\n",
       "      <td>NaN</td>\n",
       "      <td>NaN</td>\n",
       "      <td>NaN</td>\n",
       "      <td>0.0</td>\n",
       "      <td>NaN</td>\n",
       "      <td>0.0</td>\n",
       "      <td>0.0</td>\n",
       "      <td>0.0</td>\n",
       "      <td>0.0</td>\n",
       "      <td>0.0</td>\n",
       "    </tr>\n",
       "    <tr>\n",
       "      <th>2024</th>\n",
       "      <td>NaN</td>\n",
       "      <td>NaN</td>\n",
       "      <td>NaN</td>\n",
       "      <td>NaN</td>\n",
       "      <td>0.0</td>\n",
       "      <td>NaN</td>\n",
       "      <td>0.0</td>\n",
       "      <td>0.0</td>\n",
       "      <td>0.0</td>\n",
       "      <td>0.0</td>\n",
       "      <td>0.0</td>\n",
       "    </tr>\n",
       "    <tr>\n",
       "      <th>2043</th>\n",
       "      <td>NaN</td>\n",
       "      <td>NaN</td>\n",
       "      <td>NaN</td>\n",
       "      <td>NaN</td>\n",
       "      <td>0.0</td>\n",
       "      <td>NaN</td>\n",
       "      <td>0.0</td>\n",
       "      <td>0.0</td>\n",
       "      <td>0.0</td>\n",
       "      <td>0.0</td>\n",
       "      <td>0.0</td>\n",
       "    </tr>\n",
       "    <tr>\n",
       "      <th>2059</th>\n",
       "      <td>NaN</td>\n",
       "      <td>NaN</td>\n",
       "      <td>NaN</td>\n",
       "      <td>NaN</td>\n",
       "      <td>0.0</td>\n",
       "      <td>NaN</td>\n",
       "      <td>0.0</td>\n",
       "      <td>0.0</td>\n",
       "      <td>0.0</td>\n",
       "      <td>0.0</td>\n",
       "      <td>0.0</td>\n",
       "    </tr>\n",
       "    <tr>\n",
       "      <th>2123</th>\n",
       "      <td>NaN</td>\n",
       "      <td>NaN</td>\n",
       "      <td>NaN</td>\n",
       "      <td>NaN</td>\n",
       "      <td>0.0</td>\n",
       "      <td>NaN</td>\n",
       "      <td>0.0</td>\n",
       "      <td>0.0</td>\n",
       "      <td>0.0</td>\n",
       "      <td>0.0</td>\n",
       "      <td>0.0</td>\n",
       "    </tr>\n",
       "  </tbody>\n",
       "</table>\n",
       "<p>69 rows × 11 columns</p>\n",
       "</div>"
      ],
      "text/plain": [
       "     basement_quality basement_condition basement_exposure  \\\n",
       "99                NaN                NaN               NaN   \n",
       "141               NaN                NaN               NaN   \n",
       "162               NaN                NaN               NaN   \n",
       "165               NaN                NaN               NaN   \n",
       "168               NaN                NaN               NaN   \n",
       "...               ...                ...               ...   \n",
       "2020              NaN                NaN               NaN   \n",
       "2024              NaN                NaN               NaN   \n",
       "2043              NaN                NaN               NaN   \n",
       "2059              NaN                NaN               NaN   \n",
       "2123              NaN                NaN               NaN   \n",
       "\n",
       "     basement_fin_type_1  basement_fin_sf_1 basement_fin_type_2  \\\n",
       "99                   NaN                0.0                 NaN   \n",
       "141                  NaN                0.0                 NaN   \n",
       "162                  NaN                0.0                 NaN   \n",
       "165                  NaN                0.0                 NaN   \n",
       "168                  NaN                0.0                 NaN   \n",
       "...                  ...                ...                 ...   \n",
       "2020                 NaN                0.0                 NaN   \n",
       "2024                 NaN                0.0                 NaN   \n",
       "2043                 NaN                0.0                 NaN   \n",
       "2059                 NaN                0.0                 NaN   \n",
       "2123                 NaN                0.0                 NaN   \n",
       "\n",
       "      basement_fin_sf_2  basement_unf_sf  total_basement_sf  \\\n",
       "99                  0.0              0.0                0.0   \n",
       "141                 0.0              0.0                0.0   \n",
       "162                 0.0              0.0                0.0   \n",
       "165                 0.0              0.0                0.0   \n",
       "168                 0.0              0.0                0.0   \n",
       "...                 ...              ...                ...   \n",
       "2020                0.0              0.0                0.0   \n",
       "2024                0.0              0.0                0.0   \n",
       "2043                0.0              0.0                0.0   \n",
       "2059                0.0              0.0                0.0   \n",
       "2123                0.0              0.0                0.0   \n",
       "\n",
       "      basement_full_bath  basement_half_bath  \n",
       "99                   0.0                 0.0  \n",
       "141                  0.0                 0.0  \n",
       "162                  0.0                 0.0  \n",
       "165                  0.0                 0.0  \n",
       "168                  0.0                 0.0  \n",
       "...                  ...                 ...  \n",
       "2020                 0.0                 0.0  \n",
       "2024                 0.0                 0.0  \n",
       "2043                 0.0                 0.0  \n",
       "2059                 0.0                 0.0  \n",
       "2123                 0.0                 0.0  \n",
       "\n",
       "[69 rows x 11 columns]"
      ]
     },
     "execution_count": 25,
     "metadata": {},
     "output_type": "execute_result"
    }
   ],
   "source": [
    "# check basement group \n",
    "# everything is missing for the case of basement group - meaning no basement at all\n",
    "df[df['basement_exposure'].isnull()][['basement_quality', 'basement_condition', 'basement_exposure',\n",
    "       'basement_fin_type_1', 'basement_fin_sf_1', 'basement_fin_type_2',\n",
    "       'basement_fin_sf_2', 'basement_unf_sf', 'total_basement_sf',\n",
    "       'basement_full_bath', 'basement_half_bath']]"
   ]
  },
  {
   "cell_type": "code",
   "execution_count": 26,
   "id": "c81b3c3d",
   "metadata": {},
   "outputs": [],
   "source": [
    "# move these columns to impute with na\n",
    "fill_by_impute_na.extend(['basement_quality','basement_condition','basement_exposure','basement_fin_type_1',\n",
    "                         'basement_fin_type_2'])\n",
    "\n",
    "# move these columns to impute with 0\n",
    "fill_by_impute_0.extend(['basement_fin_sf_1','basement_fin_sf_2','basement_unf_sf','basement_full_bath',\n",
    "                         'basement_half_bath','total_basement_sf'])"
   ]
  },
  {
   "cell_type": "code",
   "execution_count": 27,
   "id": "1c10f750",
   "metadata": {
    "scrolled": true
   },
   "outputs": [
    {
     "data": {
      "text/html": [
       "<div>\n",
       "<style scoped>\n",
       "    .dataframe tbody tr th:only-of-type {\n",
       "        vertical-align: middle;\n",
       "    }\n",
       "\n",
       "    .dataframe tbody tr th {\n",
       "        vertical-align: top;\n",
       "    }\n",
       "\n",
       "    .dataframe thead tr th {\n",
       "        text-align: left;\n",
       "    }\n",
       "\n",
       "    .dataframe thead tr:last-of-type th {\n",
       "        text-align: right;\n",
       "    }\n",
       "</style>\n",
       "<table border=\"1\" class=\"dataframe\">\n",
       "  <thead>\n",
       "    <tr>\n",
       "      <th></th>\n",
       "      <th></th>\n",
       "      <th>Order</th>\n",
       "    </tr>\n",
       "    <tr>\n",
       "      <th></th>\n",
       "      <th></th>\n",
       "      <th>count</th>\n",
       "    </tr>\n",
       "    <tr>\n",
       "      <th>utilities</th>\n",
       "      <th>electrical</th>\n",
       "      <th></th>\n",
       "    </tr>\n",
       "  </thead>\n",
       "  <tbody>\n",
       "    <tr>\n",
       "      <th rowspan=\"5\" valign=\"top\">AllPub</th>\n",
       "      <th>FuseA</th>\n",
       "      <td>128</td>\n",
       "    </tr>\n",
       "    <tr>\n",
       "      <th>FuseF</th>\n",
       "      <td>38</td>\n",
       "    </tr>\n",
       "    <tr>\n",
       "      <th>FuseP</th>\n",
       "      <td>6</td>\n",
       "    </tr>\n",
       "    <tr>\n",
       "      <th>Mix</th>\n",
       "      <td>1</td>\n",
       "    </tr>\n",
       "    <tr>\n",
       "      <th>SBrkr</th>\n",
       "      <td>2020</td>\n",
       "    </tr>\n",
       "    <tr>\n",
       "      <th>NoSeWa</th>\n",
       "      <th>FuseA</th>\n",
       "      <td>1</td>\n",
       "    </tr>\n",
       "    <tr>\n",
       "      <th>NoSewr</th>\n",
       "      <th>FuseA</th>\n",
       "      <td>2</td>\n",
       "    </tr>\n",
       "  </tbody>\n",
       "</table>\n",
       "</div>"
      ],
      "text/plain": [
       "                     Order\n",
       "                     count\n",
       "utilities electrical      \n",
       "AllPub    FuseA        128\n",
       "          FuseF         38\n",
       "          FuseP          6\n",
       "          Mix            1\n",
       "          SBrkr       2020\n",
       "NoSeWa    FuseA          1\n",
       "NoSewr    FuseA          2"
      ]
     },
     "execution_count": 27,
     "metadata": {},
     "output_type": "execute_result"
    }
   ],
   "source": [
    "# Utilities that is 'AllPub' can be impute with the mode of SBrkr\n",
    "df.groupby(['utilities','electrical']).agg(['count'])[['Order']]"
   ]
  },
  {
   "cell_type": "code",
   "execution_count": 28,
   "id": "fdd45699",
   "metadata": {},
   "outputs": [],
   "source": [
    "# move electrical to impute with stats\n",
    "fill_by_impute_stats.extend(['electrical'])"
   ]
  },
  {
   "cell_type": "markdown",
   "id": "d5857b28",
   "metadata": {},
   "source": [
    "#### Executing cleaning methods"
   ]
  },
  {
   "cell_type": "code",
   "execution_count": 29,
   "id": "0e7ac3f8",
   "metadata": {},
   "outputs": [
    {
     "name": "stdout",
     "output_type": "stream",
     "text": [
      "drop: ['pool_quality', 'misc_feature', 'alley', 'fence']\n",
      "na : ['garage_type', 'garage_year_built', 'garage_fin', 'garage_quality', 'garage_condition', 'basement_quality', 'basement_condition', 'basement_exposure', 'basement_fin_type_1', 'basement_fin_type_2']\n",
      "0 : ['masonry_area', 'garage_cars', 'garage_area', 'basement_fin_sf_1', 'basement_fin_sf_2', 'basement_unf_sf', 'basement_full_bath', 'basement_half_bath', 'total_basement_sf']\n",
      "none : ['fireplace_quality', 'masonry_type']\n",
      "stats : ['lot_frontage', 'electrical']\n"
     ]
    }
   ],
   "source": [
    "# Creating sets of actionable columns\n",
    "print(f'drop: {fill_by_drop}')\n",
    "print(f'na : {fill_by_impute_na}')\n",
    "print(f'0 : {fill_by_impute_0}')\n",
    "print(f'none : {fill_by_impute_none}')\n",
    "print(f'stats : {fill_by_impute_stats}')"
   ]
  },
  {
   "cell_type": "code",
   "execution_count": 30,
   "id": "68eb1a80",
   "metadata": {},
   "outputs": [],
   "source": [
    "# looping to drop columns\n",
    "for col in fill_by_drop:\n",
    "    df.drop(columns=[col],inplace=True)"
   ]
  },
  {
   "cell_type": "code",
   "execution_count": 31,
   "id": "ef9edcfd",
   "metadata": {},
   "outputs": [],
   "source": [
    "# looping to impute na columns\n",
    "for col in fill_by_impute_na:\n",
    "    df[col].fillna('NA',inplace=True)"
   ]
  },
  {
   "cell_type": "code",
   "execution_count": 32,
   "id": "ab4d1630",
   "metadata": {},
   "outputs": [],
   "source": [
    "# looping to impute 0 columns\n",
    "for col in fill_by_impute_0:\n",
    "    df[col].fillna(0,inplace=True)"
   ]
  },
  {
   "cell_type": "code",
   "execution_count": 33,
   "id": "fcdc3821",
   "metadata": {},
   "outputs": [],
   "source": [
    "# looping to impute none\n",
    "for col in fill_by_impute_none:\n",
    "    df[col].fillna('None',inplace=True)"
   ]
  },
  {
   "cell_type": "code",
   "execution_count": 34,
   "id": "dae081dc",
   "metadata": {},
   "outputs": [],
   "source": [
    "# Investigate\n",
    "# lot frontage impute with the mode of 60\n",
    "df['lot_frontage'].fillna(60,inplace=True)\n",
    "\n",
    "# fill in mode with SBrkr\n",
    "df['electrical'].fillna('SBrkr', inplace=True)"
   ]
  },
  {
   "cell_type": "code",
   "execution_count": 35,
   "id": "b427e830",
   "metadata": {
    "scrolled": false
   },
   "outputs": [
    {
     "data": {
      "text/plain": [
       "Series([], dtype: float64)"
      ]
     },
     "execution_count": 35,
     "metadata": {},
     "output_type": "execute_result"
    }
   ],
   "source": [
    "# Check for null values again\n",
    "df.isnull().mean()[df.isnull().mean() > 0]"
   ]
  },
  {
   "cell_type": "code",
   "execution_count": 36,
   "id": "2fec5990",
   "metadata": {
    "scrolled": true
   },
   "outputs": [
    {
     "data": {
      "image/png": "[encoded data removed]",
      "text/plain": [
       "<Figure size 1152x432 with 2 Axes>"
      ]
     },
     "metadata": {
      "needs_background": "light"
     },
     "output_type": "display_data"
    }
   ],
   "source": [
    "plt.figure(figsize=(16,6))\n",
    "\n",
    "sns.heatmap(df.isnull());"
   ]
  },
  {
   "cell_type": "code",
   "execution_count": 37,
   "id": "ed5dc9c1",
   "metadata": {
    "scrolled": false
   },
   "outputs": [
    {
     "data": {
      "text/plain": [
       "(2197, 78)"
      ]
     },
     "execution_count": 37,
     "metadata": {},
     "output_type": "execute_result"
    }
   ],
   "source": [
    "df.shape"
   ]
  },
  {
   "cell_type": "code",
   "execution_count": 38,
   "id": "ead81fa9",
   "metadata": {},
   "outputs": [],
   "source": [
    "if status == 'train':\n",
    "    df.to_csv('../datasets/train_fill.csv', index=False)\n",
    "else:\n",
    "    df.to_csv('../datasets/test_fill.csv', index=False)"
   ]
  },
  {
   "cell_type": "markdown",
   "id": "55d0f8ff",
   "metadata": {},
   "source": [
    "----"
   ]
  }
 ],
 "metadata": {
  "kernelspec": {
   "display_name": "Python 3 (ipykernel)",
   "language": "python",
   "name": "python3"
  },
  "language_info": {
   "codemirror_mode": {
    "name": "ipython",
    "version": 3
   },
   "file_extension": ".py",
   "mimetype": "text/x-python",
   "name": "python",
   "nbconvert_exporter": "python",
   "pygments_lexer": "ipython3",
   "version": "3.9.12"
  }
 },
 "nbformat": 4,
 "nbformat_minor": 5
}
