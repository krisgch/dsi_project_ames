{
 "cells": [
  {
   "cell_type": "code",
   "execution_count": 1,
   "id": "4a432be9",
   "metadata": {},
   "outputs": [],
   "source": [
    "# Import usual library\n",
    "import pandas as pd\n",
    "import numpy as np\n",
    "import matplotlib.pyplot as plt\n",
    "import seaborn as sns"
   ]
  },
  {
   "cell_type": "code",
   "execution_count": 2,
   "id": "e0569f20",
   "metadata": {},
   "outputs": [],
   "source": [
    "# Read training dataset into df\n",
    "df = pd.read_csv('./datasets/train.csv')"
   ]
  },
  {
   "cell_type": "code",
   "execution_count": 3,
   "id": "6719a05e",
   "metadata": {
    "scrolled": true
   },
   "outputs": [
    {
     "data": {
      "text/html": [
       "<div>\n",
       "<style scoped>\n",
       "    .dataframe tbody tr th:only-of-type {\n",
       "        vertical-align: middle;\n",
       "    }\n",
       "\n",
       "    .dataframe tbody tr th {\n",
       "        vertical-align: top;\n",
       "    }\n",
       "\n",
       "    .dataframe thead th {\n",
       "        text-align: right;\n",
       "    }\n",
       "</style>\n",
       "<table border=\"1\" class=\"dataframe\">\n",
       "  <thead>\n",
       "    <tr style=\"text-align: right;\">\n",
       "      <th></th>\n",
       "      <th>Order</th>\n",
       "      <th>PID</th>\n",
       "      <th>MS SubClass</th>\n",
       "      <th>MS Zoning</th>\n",
       "      <th>Lot Frontage</th>\n",
       "      <th>Lot Area</th>\n",
       "      <th>Street</th>\n",
       "      <th>Alley</th>\n",
       "      <th>Lot Shape</th>\n",
       "      <th>Land Contour</th>\n",
       "      <th>...</th>\n",
       "      <th>Pool Area</th>\n",
       "      <th>Pool QC</th>\n",
       "      <th>Fence</th>\n",
       "      <th>Misc Feature</th>\n",
       "      <th>Misc Val</th>\n",
       "      <th>Mo Sold</th>\n",
       "      <th>Yr Sold</th>\n",
       "      <th>Sale Type</th>\n",
       "      <th>Sale Condition</th>\n",
       "      <th>SalePrice</th>\n",
       "    </tr>\n",
       "  </thead>\n",
       "  <tbody>\n",
       "    <tr>\n",
       "      <th>0</th>\n",
       "      <td>534</td>\n",
       "      <td>531363010</td>\n",
       "      <td>20</td>\n",
       "      <td>RL</td>\n",
       "      <td>80.0</td>\n",
       "      <td>9605</td>\n",
       "      <td>Pave</td>\n",
       "      <td>NaN</td>\n",
       "      <td>Reg</td>\n",
       "      <td>Lvl</td>\n",
       "      <td>...</td>\n",
       "      <td>0</td>\n",
       "      <td>NaN</td>\n",
       "      <td>NaN</td>\n",
       "      <td>NaN</td>\n",
       "      <td>0</td>\n",
       "      <td>4</td>\n",
       "      <td>2009</td>\n",
       "      <td>WD</td>\n",
       "      <td>Normal</td>\n",
       "      <td>159000</td>\n",
       "    </tr>\n",
       "    <tr>\n",
       "      <th>1</th>\n",
       "      <td>803</td>\n",
       "      <td>906203120</td>\n",
       "      <td>20</td>\n",
       "      <td>RL</td>\n",
       "      <td>90.0</td>\n",
       "      <td>14684</td>\n",
       "      <td>Pave</td>\n",
       "      <td>NaN</td>\n",
       "      <td>IR1</td>\n",
       "      <td>Lvl</td>\n",
       "      <td>...</td>\n",
       "      <td>0</td>\n",
       "      <td>NaN</td>\n",
       "      <td>NaN</td>\n",
       "      <td>NaN</td>\n",
       "      <td>0</td>\n",
       "      <td>6</td>\n",
       "      <td>2009</td>\n",
       "      <td>WD</td>\n",
       "      <td>Normal</td>\n",
       "      <td>271900</td>\n",
       "    </tr>\n",
       "  </tbody>\n",
       "</table>\n",
       "<p>2 rows × 82 columns</p>\n",
       "</div>"
      ],
      "text/plain": [
       "   Order        PID  MS SubClass MS Zoning  Lot Frontage  Lot Area Street  \\\n",
       "0    534  531363010           20        RL          80.0      9605   Pave   \n",
       "1    803  906203120           20        RL          90.0     14684   Pave   \n",
       "\n",
       "  Alley Lot Shape Land Contour  ... Pool Area Pool QC Fence Misc Feature  \\\n",
       "0   NaN       Reg          Lvl  ...         0     NaN   NaN          NaN   \n",
       "1   NaN       IR1          Lvl  ...         0     NaN   NaN          NaN   \n",
       "\n",
       "  Misc Val Mo Sold Yr Sold Sale Type  Sale Condition  SalePrice  \n",
       "0        0       4    2009       WD           Normal     159000  \n",
       "1        0       6    2009       WD           Normal     271900  \n",
       "\n",
       "[2 rows x 82 columns]"
      ]
     },
     "execution_count": 3,
     "metadata": {},
     "output_type": "execute_result"
    }
   ],
   "source": [
    "# View head\n",
    "df.head(2)"
   ]
  },
  {
   "cell_type": "code",
   "execution_count": 4,
   "id": "c01b8908",
   "metadata": {},
   "outputs": [
    {
     "name": "stdout",
     "output_type": "stream",
     "text": [
      "<class 'pandas.core.frame.DataFrame'>\n",
      "RangeIndex: 2197 entries, 0 to 2196\n",
      "Data columns (total 82 columns):\n",
      " #   Column           Non-Null Count  Dtype  \n",
      "---  ------           --------------  -----  \n",
      " 0   Order            2197 non-null   int64  \n",
      " 1   PID              2197 non-null   int64  \n",
      " 2   MS SubClass      2197 non-null   int64  \n",
      " 3   MS Zoning        2197 non-null   object \n",
      " 4   Lot Frontage     1835 non-null   float64\n",
      " 5   Lot Area         2197 non-null   int64  \n",
      " 6   Street           2197 non-null   object \n",
      " 7   Alley            143 non-null    object \n",
      " 8   Lot Shape        2197 non-null   object \n",
      " 9   Land Contour     2197 non-null   object \n",
      " 10  Utilities        2197 non-null   object \n",
      " 11  Lot Config       2197 non-null   object \n",
      " 12  Land Slope       2197 non-null   object \n",
      " 13  Neighborhood     2197 non-null   object \n",
      " 14  Condition 1      2197 non-null   object \n",
      " 15  Condition 2      2197 non-null   object \n",
      " 16  Bldg Type        2197 non-null   object \n",
      " 17  House Style      2197 non-null   object \n",
      " 18  Overall Qual     2197 non-null   int64  \n",
      " 19  Overall Cond     2197 non-null   int64  \n",
      " 20  Year Built       2197 non-null   int64  \n",
      " 21  Year Remod/Add   2197 non-null   int64  \n",
      " 22  Roof Style       2197 non-null   object \n",
      " 23  Roof Matl        2197 non-null   object \n",
      " 24  Exterior 1st     2197 non-null   object \n",
      " 25  Exterior 2nd     2197 non-null   object \n",
      " 26  Mas Vnr Type     2175 non-null   object \n",
      " 27  Mas Vnr Area     2175 non-null   float64\n",
      " 28  Exter Qual       2197 non-null   object \n",
      " 29  Exter Cond       2197 non-null   object \n",
      " 30  Foundation       2197 non-null   object \n",
      " 31  Bsmt Qual        2130 non-null   object \n",
      " 32  Bsmt Cond        2130 non-null   object \n",
      " 33  Bsmt Exposure    2128 non-null   object \n",
      " 34  BsmtFin Type 1   2130 non-null   object \n",
      " 35  BsmtFin SF 1     2196 non-null   float64\n",
      " 36  BsmtFin Type 2   2129 non-null   object \n",
      " 37  BsmtFin SF 2     2196 non-null   float64\n",
      " 38  Bsmt Unf SF      2196 non-null   float64\n",
      " 39  Total Bsmt SF    2196 non-null   float64\n",
      " 40  Heating          2197 non-null   object \n",
      " 41  Heating QC       2197 non-null   object \n",
      " 42  Central Air      2197 non-null   object \n",
      " 43  Electrical       2196 non-null   object \n",
      " 44  1st Flr SF       2197 non-null   int64  \n",
      " 45  2nd Flr SF       2197 non-null   int64  \n",
      " 46  Low Qual Fin SF  2197 non-null   int64  \n",
      " 47  Gr Liv Area      2197 non-null   int64  \n",
      " 48  Bsmt Full Bath   2196 non-null   float64\n",
      " 49  Bsmt Half Bath   2196 non-null   float64\n",
      " 50  Full Bath        2197 non-null   int64  \n",
      " 51  Half Bath        2197 non-null   int64  \n",
      " 52  Bedroom AbvGr    2197 non-null   int64  \n",
      " 53  Kitchen AbvGr    2197 non-null   int64  \n",
      " 54  Kitchen Qual     2197 non-null   object \n",
      " 55  TotRms AbvGrd    2197 non-null   int64  \n",
      " 56  Functional       2197 non-null   object \n",
      " 57  Fireplaces       2197 non-null   int64  \n",
      " 58  Fireplace Qu     1131 non-null   object \n",
      " 59  Garage Type      2077 non-null   object \n",
      " 60  Garage Yr Blt    2075 non-null   float64\n",
      " 61  Garage Finish    2075 non-null   object \n",
      " 62  Garage Cars      2196 non-null   float64\n",
      " 63  Garage Area      2196 non-null   float64\n",
      " 64  Garage Qual      2075 non-null   object \n",
      " 65  Garage Cond      2075 non-null   object \n",
      " 66  Paved Drive      2197 non-null   object \n",
      " 67  Wood Deck SF     2197 non-null   int64  \n",
      " 68  Open Porch SF    2197 non-null   int64  \n",
      " 69  Enclosed Porch   2197 non-null   int64  \n",
      " 70  3Ssn Porch       2197 non-null   int64  \n",
      " 71  Screen Porch     2197 non-null   int64  \n",
      " 72  Pool Area        2197 non-null   int64  \n",
      " 73  Pool QC          12 non-null     object \n",
      " 74  Fence            419 non-null    object \n",
      " 75  Misc Feature     80 non-null     object \n",
      " 76  Misc Val         2197 non-null   int64  \n",
      " 77  Mo Sold          2197 non-null   int64  \n",
      " 78  Yr Sold          2197 non-null   int64  \n",
      " 79  Sale Type        2197 non-null   object \n",
      " 80  Sale Condition   2197 non-null   object \n",
      " 81  SalePrice        2197 non-null   int64  \n",
      "dtypes: float64(11), int64(28), object(43)\n",
      "memory usage: 1.4+ MB\n"
     ]
    }
   ],
   "source": [
    "# Check info\n",
    "df.info()"
   ]
  },
  {
   "cell_type": "code",
   "execution_count": 5,
   "id": "6b533a33",
   "metadata": {
    "scrolled": true
   },
   "outputs": [
    {
     "data": {
      "text/plain": [
       "Index(['Order', 'PID', 'MS SubClass', 'MS Zoning', 'Lot Frontage', 'Lot Area',\n",
       "       'Street', 'Alley', 'Lot Shape', 'Land Contour', 'Utilities',\n",
       "       'Lot Config', 'Land Slope', 'Neighborhood', 'Condition 1',\n",
       "       'Condition 2', 'Bldg Type', 'House Style', 'Overall Qual',\n",
       "       'Overall Cond', 'Year Built', 'Year Remod/Add', 'Roof Style',\n",
       "       'Roof Matl', 'Exterior 1st', 'Exterior 2nd', 'Mas Vnr Type',\n",
       "       'Mas Vnr Area', 'Exter Qual', 'Exter Cond', 'Foundation', 'Bsmt Qual',\n",
       "       'Bsmt Cond', 'Bsmt Exposure', 'BsmtFin Type 1', 'BsmtFin SF 1',\n",
       "       'BsmtFin Type 2', 'BsmtFin SF 2', 'Bsmt Unf SF', 'Total Bsmt SF',\n",
       "       'Heating', 'Heating QC', 'Central Air', 'Electrical', '1st Flr SF',\n",
       "       '2nd Flr SF', 'Low Qual Fin SF', 'Gr Liv Area', 'Bsmt Full Bath',\n",
       "       'Bsmt Half Bath', 'Full Bath', 'Half Bath', 'Bedroom AbvGr',\n",
       "       'Kitchen AbvGr', 'Kitchen Qual', 'TotRms AbvGrd', 'Functional',\n",
       "       'Fireplaces', 'Fireplace Qu', 'Garage Type', 'Garage Yr Blt',\n",
       "       'Garage Finish', 'Garage Cars', 'Garage Area', 'Garage Qual',\n",
       "       'Garage Cond', 'Paved Drive', 'Wood Deck SF', 'Open Porch SF',\n",
       "       'Enclosed Porch', '3Ssn Porch', 'Screen Porch', 'Pool Area', 'Pool QC',\n",
       "       'Fence', 'Misc Feature', 'Misc Val', 'Mo Sold', 'Yr Sold', 'Sale Type',\n",
       "       'Sale Condition', 'SalePrice'],\n",
       "      dtype='object')"
      ]
     },
     "execution_count": 5,
     "metadata": {},
     "output_type": "execute_result"
    }
   ],
   "source": [
    "df.columns"
   ]
  },
  {
   "cell_type": "code",
   "execution_count": 6,
   "id": "73df9213",
   "metadata": {},
   "outputs": [],
   "source": [
    "# Create a dictionary to rename columns\n",
    "col_name_dict = {'Order':'id', 'PID':'pid', 'MS SubClass':'ms_subclass', 'MS Zoning':'ms_zoning',\n",
    "                 'Lot Frontage':'lot_frontage', 'Lot Area':'lot_area','Street':'street','Alley':'alley',\n",
    "                 'Lot Shape':'lot_shape', 'Land Contour':'land_contour', 'Utilities':'utilities',\n",
    "                 'Lot Config':'lot_config', 'Land Slope':'land_slope', 'Neighborhood':'neighborhood',\n",
    "                 'Condition 1':'condition_1','Condition 2':'condition_2', 'Bldg Type':'building_type',\n",
    "                 'House Style':'house_style', 'Overall Qual':'overall_quality','Overall Cond':'overall_condition',\n",
    "                 'Year Built':'year_built', 'Year Remod/Add':'year_remodel_add', 'Roof Style':'roof_style',\n",
    "                 'Roof Matl':'roof_material', 'Exterior 1st':'exterior_1', 'Exterior 2nd':'exterior_2',\n",
    "                 'Mas Vnr Type':'masonry_type','Mas Vnr Area':'masonry_area', 'Exter Qual':'external_quality',\n",
    "                 'Exter Cond':'external_condition', 'Foundation':'foundation', 'Bsmt Qual':'basement_quality',\n",
    "                 'Bsmt Cond':'basement_condition', 'Bsmt Exposure':'basement_exposure',\n",
    "                 'BsmtFin Type 1':'basement_fin_type_1', 'BsmtFin SF 1':'basement_fin_sf_1',\n",
    "                 'BsmtFin Type 2':'basement_fin_type_2', 'BsmtFin SF 2':'basement_fin_sf_2',\n",
    "                 'Bsmt Unf SF':'basement_unf_sf', 'Total Bsmt SF':'total_basement_sf','Heating':'heating',\n",
    "                 'Heating QC':'heating_qc', 'Central Air':'central_air', 'Electrical':'electrical',\n",
    "                 '1st Flr SF':'1st_floor_sf','2nd Flr SF':'2nd_floor_sf', 'Low Qual Fin SF':'low_quality_fin_sf',\n",
    "                 'Gr Liv Area':'ground_living_area', 'Bsmt Full Bath':'basement_full_bath',\n",
    "                 'Bsmt Half Bath':'basement_half_bath', 'Full Bath':'full_bath', 'Half Bath':'half_bath',\n",
    "                 'Bedroom AbvGr':'bed_above_ground','Kitchen AbvGr':'kitchen_above_ground',\n",
    "                 'Kitchen Qual':'kitchen_quality', 'TotRms AbvGrd':'total_rooms_above_ground', \n",
    "                 'Functional':'functional','Fireplaces':'fireplace', 'Fireplace Qu':'fireplace_quality',\n",
    "                 'Garage Type':'garage_type', 'Garage Yr Blt':'garage_year_built','Garage Finish':'garage_fin',\n",
    "                 'Garage Cars':'garage_cars', 'Garage Area':'garage_area', 'Garage Qual':'garage_quality',\n",
    "                 'Garage Cond':'garage_condition', 'Paved Drive':'paved_drive', 'Wood Deck SF':'wood_deck_sf',\n",
    "                 'Open Porch SF':'open_porch_df','Enclosed Porch':'enclosed_porch', '3Ssn Porch':'3ssn_porch',\n",
    "                 'Screen Porch':'screen_porch', 'Pool Area':'pool_area', 'Pool QC':'pool_quality','Fence':'fence',\n",
    "                 'Misc Feature':'misc_feature', 'Misc Val':'misc_value', 'Mo Sold':'month_sold',\n",
    "                 'Yr Sold':'year_sold', 'Sale Type':'sale_type','SalePrice':'sale_price'}"
   ]
  },
  {
   "cell_type": "code",
   "execution_count": 7,
   "id": "0607f332",
   "metadata": {
    "scrolled": true
   },
   "outputs": [],
   "source": [
    "# rename columns\n",
    "df = df.rename(columns=col_name_dict)"
   ]
  },
  {
   "cell_type": "code",
   "execution_count": 8,
   "id": "f7d10011",
   "metadata": {},
   "outputs": [
    {
     "data": {
      "text/plain": [
       "(2197, 82)"
      ]
     },
     "execution_count": 8,
     "metadata": {},
     "output_type": "execute_result"
    }
   ],
   "source": [
    "df.shape"
   ]
  },
  {
   "cell_type": "code",
   "execution_count": 9,
   "id": "3e19d830",
   "metadata": {
    "scrolled": true
   },
   "outputs": [
    {
     "data": {
      "text/html": [
       "<div>\n",
       "<style scoped>\n",
       "    .dataframe tbody tr th:only-of-type {\n",
       "        vertical-align: middle;\n",
       "    }\n",
       "\n",
       "    .dataframe tbody tr th {\n",
       "        vertical-align: top;\n",
       "    }\n",
       "\n",
       "    .dataframe thead th {\n",
       "        text-align: right;\n",
       "    }\n",
       "</style>\n",
       "<table border=\"1\" class=\"dataframe\">\n",
       "  <thead>\n",
       "    <tr style=\"text-align: right;\">\n",
       "      <th></th>\n",
       "      <th>id</th>\n",
       "      <th>pid</th>\n",
       "      <th>ms_subclass</th>\n",
       "      <th>ms_zoning</th>\n",
       "      <th>lot_frontage</th>\n",
       "      <th>lot_area</th>\n",
       "      <th>street</th>\n",
       "      <th>alley</th>\n",
       "      <th>lot_shape</th>\n",
       "      <th>land_contour</th>\n",
       "      <th>...</th>\n",
       "      <th>pool_area</th>\n",
       "      <th>pool_quality</th>\n",
       "      <th>fence</th>\n",
       "      <th>misc_feature</th>\n",
       "      <th>misc_value</th>\n",
       "      <th>month_sold</th>\n",
       "      <th>year_sold</th>\n",
       "      <th>sale_type</th>\n",
       "      <th>Sale Condition</th>\n",
       "      <th>sale_price</th>\n",
       "    </tr>\n",
       "  </thead>\n",
       "  <tbody>\n",
       "    <tr>\n",
       "      <th>0</th>\n",
       "      <td>534</td>\n",
       "      <td>531363010</td>\n",
       "      <td>20</td>\n",
       "      <td>RL</td>\n",
       "      <td>80.0</td>\n",
       "      <td>9605</td>\n",
       "      <td>Pave</td>\n",
       "      <td>NaN</td>\n",
       "      <td>Reg</td>\n",
       "      <td>Lvl</td>\n",
       "      <td>...</td>\n",
       "      <td>0</td>\n",
       "      <td>NaN</td>\n",
       "      <td>NaN</td>\n",
       "      <td>NaN</td>\n",
       "      <td>0</td>\n",
       "      <td>4</td>\n",
       "      <td>2009</td>\n",
       "      <td>WD</td>\n",
       "      <td>Normal</td>\n",
       "      <td>159000</td>\n",
       "    </tr>\n",
       "    <tr>\n",
       "      <th>1</th>\n",
       "      <td>803</td>\n",
       "      <td>906203120</td>\n",
       "      <td>20</td>\n",
       "      <td>RL</td>\n",
       "      <td>90.0</td>\n",
       "      <td>14684</td>\n",
       "      <td>Pave</td>\n",
       "      <td>NaN</td>\n",
       "      <td>IR1</td>\n",
       "      <td>Lvl</td>\n",
       "      <td>...</td>\n",
       "      <td>0</td>\n",
       "      <td>NaN</td>\n",
       "      <td>NaN</td>\n",
       "      <td>NaN</td>\n",
       "      <td>0</td>\n",
       "      <td>6</td>\n",
       "      <td>2009</td>\n",
       "      <td>WD</td>\n",
       "      <td>Normal</td>\n",
       "      <td>271900</td>\n",
       "    </tr>\n",
       "    <tr>\n",
       "      <th>2</th>\n",
       "      <td>956</td>\n",
       "      <td>916176030</td>\n",
       "      <td>20</td>\n",
       "      <td>RL</td>\n",
       "      <td>NaN</td>\n",
       "      <td>14375</td>\n",
       "      <td>Pave</td>\n",
       "      <td>NaN</td>\n",
       "      <td>IR1</td>\n",
       "      <td>Lvl</td>\n",
       "      <td>...</td>\n",
       "      <td>0</td>\n",
       "      <td>NaN</td>\n",
       "      <td>NaN</td>\n",
       "      <td>NaN</td>\n",
       "      <td>0</td>\n",
       "      <td>1</td>\n",
       "      <td>2009</td>\n",
       "      <td>COD</td>\n",
       "      <td>Abnorml</td>\n",
       "      <td>137500</td>\n",
       "    </tr>\n",
       "  </tbody>\n",
       "</table>\n",
       "<p>3 rows × 82 columns</p>\n",
       "</div>"
      ],
      "text/plain": [
       "    id        pid  ms_subclass ms_zoning  lot_frontage  lot_area street alley  \\\n",
       "0  534  531363010           20        RL          80.0      9605   Pave   NaN   \n",
       "1  803  906203120           20        RL          90.0     14684   Pave   NaN   \n",
       "2  956  916176030           20        RL           NaN     14375   Pave   NaN   \n",
       "\n",
       "  lot_shape land_contour  ... pool_area pool_quality fence misc_feature  \\\n",
       "0       Reg          Lvl  ...         0          NaN   NaN          NaN   \n",
       "1       IR1          Lvl  ...         0          NaN   NaN          NaN   \n",
       "2       IR1          Lvl  ...         0          NaN   NaN          NaN   \n",
       "\n",
       "  misc_value month_sold year_sold sale_type  Sale Condition  sale_price  \n",
       "0          0          4      2009       WD           Normal      159000  \n",
       "1          0          6      2009       WD           Normal      271900  \n",
       "2          0          1      2009       COD         Abnorml      137500  \n",
       "\n",
       "[3 rows x 82 columns]"
      ]
     },
     "execution_count": 9,
     "metadata": {},
     "output_type": "execute_result"
    }
   ],
   "source": [
    "df.head(3)"
   ]
  },
  {
   "cell_type": "code",
   "execution_count": 10,
   "id": "6ff9923c",
   "metadata": {
    "scrolled": false
   },
   "outputs": [
    {
     "data": {
      "text/plain": [
       "pool_quality           0.994538\n",
       "misc_feature           0.963587\n",
       "alley                  0.934911\n",
       "fence                  0.809285\n",
       "fireplace_quality      0.485207\n",
       "lot_frontage           0.164770\n",
       "garage_condition       0.055530\n",
       "garage_quality         0.055530\n",
       "garage_fin             0.055530\n",
       "garage_year_built      0.055530\n",
       "garage_type            0.054620\n",
       "basement_exposure      0.031406\n",
       "basement_fin_type_2    0.030951\n",
       "basement_fin_type_1    0.030496\n",
       "basement_quality       0.030496\n",
       "basement_condition     0.030496\n",
       "masonry_area           0.010014\n",
       "masonry_type           0.010014\n",
       "basement_half_bath     0.000455\n",
       "basement_full_bath     0.000455\n",
       "total_basement_sf      0.000455\n",
       "basement_unf_sf        0.000455\n",
       "garage_cars            0.000455\n",
       "garage_area            0.000455\n",
       "basement_fin_sf_2      0.000455\n",
       "basement_fin_sf_1      0.000455\n",
       "electrical             0.000455\n",
       "dtype: float64"
      ]
     },
     "execution_count": 10,
     "metadata": {},
     "output_type": "execute_result"
    }
   ],
   "source": [
    "# Check nulls\n",
    "df.isnull().mean()[df.isnull().sum() > 0].sort_values(ascending=False)"
   ]
  },
  {
   "cell_type": "code",
   "execution_count": 11,
   "id": "a9178807",
   "metadata": {},
   "outputs": [],
   "source": [
    "# Drop almost empty columns\n",
    "df = df.drop(['pool_quality','alley','misc_feature','fence'], axis=1)"
   ]
  },
  {
   "cell_type": "code",
   "execution_count": 12,
   "id": "5eae0df6",
   "metadata": {},
   "outputs": [],
   "source": [
    "# Fill categorical column with mode\n",
    "\n",
    "#df['masonry_area'].fillna(df['masonry_area'].mode()[0],inplace=True)\n",
    "#df['masonry_type'].fillna(df['masonry_type'].mode()[0],inplace=True)\n",
    "#df['lot_frontage'].fillna(df['lot_frontage'].mode()[0],inplace=True)\n",
    "#df['fireplace_quality'].fillna(df['fireplace_quality'].mode()[0],inplace=True)\n",
    "#df['garage_type'].fillna(df['garage_type'].mode()[0],inplace=True)\n",
    "#df['garage_year_built'].fillna(df['garage_year_built'].mode()[0],inplace=True)\n",
    "#df['garage_fin'].fillna(df['garage_fin'].mode()[0],inplace=True)\n",
    "#df['garage_quality'].fillna(df['garage_quality'].mode()[0],inplace=True)\n",
    "#df['garage_condition'].fillna(df['garage_condition'].mode()[0],inplace=True)\n",
    "#df['basement_quality'].fillna(df['basement_quality'].mode()[0],inplace=True)\n",
    "#df['basement_condition'].fillna(df['basement_condition'].mode()[0],inplace=True)\n",
    "#df['basement_exposure'].fillna(df['basement_exposure'].mode()[0],inplace=True)\n",
    "#df['basement_fin_type_1'].fillna(df['basement_fin_type_1'].mode()[0],inplace=True)\n",
    "#df['basement_fin_type_2'].fillna(df['basement_fin_type_2'].mode()[0],inplace=True)"
   ]
  },
  {
   "cell_type": "code",
   "execution_count": 13,
   "id": "301a1f43",
   "metadata": {},
   "outputs": [],
   "source": [
    "# Fill categorical column with NA\n",
    "\n",
    "df['masonry_area'].fillna(0,inplace=True)\n",
    "df['masonry_type'].fillna('NA',inplace=True)\n",
    "df['lot_frontage'].fillna(0,inplace=True)\n",
    "df['fireplace_quality'].fillna('NA',inplace=True)\n",
    "df['garage_type'].fillna('NA',inplace=True)\n",
    "df['garage_year_built'].fillna('NA',inplace=True)\n",
    "df['garage_fin'].fillna('NA',inplace=True)\n",
    "df['garage_quality'].fillna('NA',inplace=True)\n",
    "df['garage_condition'].fillna('NA',inplace=True)\n",
    "df['basement_quality'].fillna('NA',inplace=True)\n",
    "df['basement_condition'].fillna('NA',inplace=True)\n",
    "df['basement_exposure'].fillna('NA',inplace=True)\n",
    "df['basement_fin_type_1'].fillna('NA',inplace=True)\n",
    "df['basement_fin_type_2'].fillna('NA',inplace=True)"
   ]
  },
  {
   "cell_type": "code",
   "execution_count": 14,
   "id": "3dcbf149",
   "metadata": {},
   "outputs": [],
   "source": [
    "df = df[df['basement_fin_sf_1'].notnull()]"
   ]
  },
  {
   "cell_type": "code",
   "execution_count": 15,
   "id": "70a1dfc3",
   "metadata": {},
   "outputs": [],
   "source": [
    "df = df[df['garage_cars'].notnull()]"
   ]
  },
  {
   "cell_type": "code",
   "execution_count": 16,
   "id": "c0b87830",
   "metadata": {},
   "outputs": [],
   "source": [
    "df = df[df['electrical'].notnull()]"
   ]
  },
  {
   "cell_type": "code",
   "execution_count": 17,
   "id": "94452c79",
   "metadata": {},
   "outputs": [],
   "source": [
    "# df.to_csv('./datasets/train_cleaned_mode.csv', index=False)"
   ]
  },
  {
   "cell_type": "code",
   "execution_count": 18,
   "id": "8a04f985",
   "metadata": {},
   "outputs": [],
   "source": [
    "df.to_csv('./datasets/train_cleaned_NA.csv', index=False)"
   ]
  },
  {
   "cell_type": "markdown",
   "id": "55d0f8ff",
   "metadata": {},
   "source": [
    "----"
   ]
  }
 ],
 "metadata": {
  "kernelspec": {
   "display_name": "Python 3 (ipykernel)",
   "language": "python",
   "name": "python3"
  },
  "language_info": {
   "codemirror_mode": {
    "name": "ipython",
    "version": 3
   },
   "file_extension": ".py",
   "mimetype": "text/x-python",
   "name": "python",
   "nbconvert_exporter": "python",
   "pygments_lexer": "ipython3",
   "version": "3.9.12"
  }
 },
 "nbformat": 4,
 "nbformat_minor": 5
}
