{
 "cells": [
  {
   "cell_type": "code",
   "execution_count": 21,
   "id": "4a432be9",
   "metadata": {},
   "outputs": [],
   "source": [
    "# Import usual library\n",
    "import pandas as pd\n",
    "import numpy as np\n",
    "import matplotlib.pyplot as plt\n",
    "import seaborn as sns"
   ]
  },
  {
   "cell_type": "code",
   "execution_count": 22,
   "id": "e0569f20",
   "metadata": {},
   "outputs": [],
   "source": [
    "# Read training dataset into df\n",
    "df = pd.read_csv('./datasets/test.csv')"
   ]
  },
  {
   "cell_type": "code",
   "execution_count": 23,
   "id": "6719a05e",
   "metadata": {
    "scrolled": true
   },
   "outputs": [
    {
     "data": {
      "text/html": [
       "<div>\n",
       "<style scoped>\n",
       "    .dataframe tbody tr th:only-of-type {\n",
       "        vertical-align: middle;\n",
       "    }\n",
       "\n",
       "    .dataframe tbody tr th {\n",
       "        vertical-align: top;\n",
       "    }\n",
       "\n",
       "    .dataframe thead th {\n",
       "        text-align: right;\n",
       "    }\n",
       "</style>\n",
       "<table border=\"1\" class=\"dataframe\">\n",
       "  <thead>\n",
       "    <tr style=\"text-align: right;\">\n",
       "      <th></th>\n",
       "      <th>Order</th>\n",
       "      <th>PID</th>\n",
       "      <th>MS SubClass</th>\n",
       "      <th>MS Zoning</th>\n",
       "      <th>Lot Frontage</th>\n",
       "      <th>Lot Area</th>\n",
       "      <th>Street</th>\n",
       "      <th>Alley</th>\n",
       "      <th>Lot Shape</th>\n",
       "      <th>Land Contour</th>\n",
       "      <th>...</th>\n",
       "      <th>Screen Porch</th>\n",
       "      <th>Pool Area</th>\n",
       "      <th>Pool QC</th>\n",
       "      <th>Fence</th>\n",
       "      <th>Misc Feature</th>\n",
       "      <th>Misc Val</th>\n",
       "      <th>Mo Sold</th>\n",
       "      <th>Yr Sold</th>\n",
       "      <th>Sale Type</th>\n",
       "      <th>Sale Condition</th>\n",
       "    </tr>\n",
       "  </thead>\n",
       "  <tbody>\n",
       "    <tr>\n",
       "      <th>0</th>\n",
       "      <td>2127</td>\n",
       "      <td>907135180</td>\n",
       "      <td>20</td>\n",
       "      <td>RL</td>\n",
       "      <td>60.0</td>\n",
       "      <td>8070</td>\n",
       "      <td>Pave</td>\n",
       "      <td>NaN</td>\n",
       "      <td>Reg</td>\n",
       "      <td>Lvl</td>\n",
       "      <td>...</td>\n",
       "      <td>0</td>\n",
       "      <td>0</td>\n",
       "      <td>NaN</td>\n",
       "      <td>NaN</td>\n",
       "      <td>NaN</td>\n",
       "      <td>0</td>\n",
       "      <td>8</td>\n",
       "      <td>2007</td>\n",
       "      <td>WD</td>\n",
       "      <td>Normal</td>\n",
       "    </tr>\n",
       "    <tr>\n",
       "      <th>1</th>\n",
       "      <td>193</td>\n",
       "      <td>903206120</td>\n",
       "      <td>75</td>\n",
       "      <td>RL</td>\n",
       "      <td>NaN</td>\n",
       "      <td>7793</td>\n",
       "      <td>Pave</td>\n",
       "      <td>NaN</td>\n",
       "      <td>IR1</td>\n",
       "      <td>Bnk</td>\n",
       "      <td>...</td>\n",
       "      <td>0</td>\n",
       "      <td>0</td>\n",
       "      <td>NaN</td>\n",
       "      <td>NaN</td>\n",
       "      <td>NaN</td>\n",
       "      <td>0</td>\n",
       "      <td>5</td>\n",
       "      <td>2010</td>\n",
       "      <td>WD</td>\n",
       "      <td>Normal</td>\n",
       "    </tr>\n",
       "  </tbody>\n",
       "</table>\n",
       "<p>2 rows × 81 columns</p>\n",
       "</div>"
      ],
      "text/plain": [
       "   Order        PID  MS SubClass MS Zoning  Lot Frontage  Lot Area Street  \\\n",
       "0   2127  907135180           20        RL          60.0      8070   Pave   \n",
       "1    193  903206120           75        RL           NaN      7793   Pave   \n",
       "\n",
       "  Alley Lot Shape Land Contour  ... Screen Porch Pool Area Pool QC Fence  \\\n",
       "0   NaN       Reg          Lvl  ...            0         0     NaN   NaN   \n",
       "1   NaN       IR1          Bnk  ...            0         0     NaN   NaN   \n",
       "\n",
       "  Misc Feature Misc Val Mo Sold Yr Sold  Sale Type  Sale Condition  \n",
       "0          NaN        0       8    2007        WD           Normal  \n",
       "1          NaN        0       5    2010        WD           Normal  \n",
       "\n",
       "[2 rows x 81 columns]"
      ]
     },
     "execution_count": 23,
     "metadata": {},
     "output_type": "execute_result"
    }
   ],
   "source": [
    "# View head\n",
    "df.head(2)"
   ]
  },
  {
   "cell_type": "code",
   "execution_count": 24,
   "id": "c01b8908",
   "metadata": {},
   "outputs": [
    {
     "name": "stdout",
     "output_type": "stream",
     "text": [
      "<class 'pandas.core.frame.DataFrame'>\n",
      "RangeIndex: 733 entries, 0 to 732\n",
      "Data columns (total 81 columns):\n",
      " #   Column           Non-Null Count  Dtype  \n",
      "---  ------           --------------  -----  \n",
      " 0   Order            733 non-null    int64  \n",
      " 1   PID              733 non-null    int64  \n",
      " 2   MS SubClass      733 non-null    int64  \n",
      " 3   MS Zoning        733 non-null    object \n",
      " 4   Lot Frontage     605 non-null    float64\n",
      " 5   Lot Area         733 non-null    int64  \n",
      " 6   Street           733 non-null    object \n",
      " 7   Alley            55 non-null     object \n",
      " 8   Lot Shape        733 non-null    object \n",
      " 9   Land Contour     733 non-null    object \n",
      " 10  Utilities        733 non-null    object \n",
      " 11  Lot Config       733 non-null    object \n",
      " 12  Land Slope       733 non-null    object \n",
      " 13  Neighborhood     733 non-null    object \n",
      " 14  Condition 1      733 non-null    object \n",
      " 15  Condition 2      733 non-null    object \n",
      " 16  Bldg Type        733 non-null    object \n",
      " 17  House Style      733 non-null    object \n",
      " 18  Overall Qual     733 non-null    int64  \n",
      " 19  Overall Cond     733 non-null    int64  \n",
      " 20  Year Built       733 non-null    int64  \n",
      " 21  Year Remod/Add   733 non-null    int64  \n",
      " 22  Roof Style       733 non-null    object \n",
      " 23  Roof Matl        733 non-null    object \n",
      " 24  Exterior 1st     733 non-null    object \n",
      " 25  Exterior 2nd     733 non-null    object \n",
      " 26  Mas Vnr Type     732 non-null    object \n",
      " 27  Mas Vnr Area     732 non-null    float64\n",
      " 28  Exter Qual       733 non-null    object \n",
      " 29  Exter Cond       733 non-null    object \n",
      " 30  Foundation       733 non-null    object \n",
      " 31  Bsmt Qual        720 non-null    object \n",
      " 32  Bsmt Cond        720 non-null    object \n",
      " 33  Bsmt Exposure    719 non-null    object \n",
      " 34  BsmtFin Type 1   720 non-null    object \n",
      " 35  BsmtFin SF 1     733 non-null    float64\n",
      " 36  BsmtFin Type 2   720 non-null    object \n",
      " 37  BsmtFin SF 2     733 non-null    float64\n",
      " 38  Bsmt Unf SF      733 non-null    float64\n",
      " 39  Total Bsmt SF    733 non-null    float64\n",
      " 40  Heating          733 non-null    object \n",
      " 41  Heating QC       733 non-null    object \n",
      " 42  Central Air      733 non-null    object \n",
      " 43  Electrical       733 non-null    object \n",
      " 44  1st Flr SF       733 non-null    int64  \n",
      " 45  2nd Flr SF       733 non-null    int64  \n",
      " 46  Low Qual Fin SF  733 non-null    int64  \n",
      " 47  Gr Liv Area      733 non-null    int64  \n",
      " 48  Bsmt Full Bath   732 non-null    float64\n",
      " 49  Bsmt Half Bath   732 non-null    float64\n",
      " 50  Full Bath        733 non-null    int64  \n",
      " 51  Half Bath        733 non-null    int64  \n",
      " 52  Bedroom AbvGr    733 non-null    int64  \n",
      " 53  Kitchen AbvGr    733 non-null    int64  \n",
      " 54  Kitchen Qual     733 non-null    object \n",
      " 55  TotRms AbvGrd    733 non-null    int64  \n",
      " 56  Functional       733 non-null    object \n",
      " 57  Fireplaces       733 non-null    int64  \n",
      " 58  Fireplace Qu     377 non-null    object \n",
      " 59  Garage Type      696 non-null    object \n",
      " 60  Garage Yr Blt    696 non-null    float64\n",
      " 61  Garage Finish    696 non-null    object \n",
      " 62  Garage Cars      733 non-null    float64\n",
      " 63  Garage Area      733 non-null    float64\n",
      " 64  Garage Qual      696 non-null    object \n",
      " 65  Garage Cond      696 non-null    object \n",
      " 66  Paved Drive      733 non-null    object \n",
      " 67  Wood Deck SF     733 non-null    int64  \n",
      " 68  Open Porch SF    733 non-null    int64  \n",
      " 69  Enclosed Porch   733 non-null    int64  \n",
      " 70  3Ssn Porch       733 non-null    int64  \n",
      " 71  Screen Porch     733 non-null    int64  \n",
      " 72  Pool Area        733 non-null    int64  \n",
      " 73  Pool QC          1 non-null      object \n",
      " 74  Fence            153 non-null    object \n",
      " 75  Misc Feature     26 non-null     object \n",
      " 76  Misc Val         733 non-null    int64  \n",
      " 77  Mo Sold          733 non-null    int64  \n",
      " 78  Yr Sold          733 non-null    int64  \n",
      " 79  Sale Type        733 non-null    object \n",
      " 80  Sale Condition   733 non-null    object \n",
      "dtypes: float64(11), int64(27), object(43)\n",
      "memory usage: 464.0+ KB\n"
     ]
    }
   ],
   "source": [
    "# Check info\n",
    "df.info()"
   ]
  },
  {
   "cell_type": "code",
   "execution_count": 25,
   "id": "6b533a33",
   "metadata": {
    "scrolled": true
   },
   "outputs": [
    {
     "data": {
      "text/plain": [
       "Index(['Order', 'PID', 'MS SubClass', 'MS Zoning', 'Lot Frontage', 'Lot Area',\n",
       "       'Street', 'Alley', 'Lot Shape', 'Land Contour', 'Utilities',\n",
       "       'Lot Config', 'Land Slope', 'Neighborhood', 'Condition 1',\n",
       "       'Condition 2', 'Bldg Type', 'House Style', 'Overall Qual',\n",
       "       'Overall Cond', 'Year Built', 'Year Remod/Add', 'Roof Style',\n",
       "       'Roof Matl', 'Exterior 1st', 'Exterior 2nd', 'Mas Vnr Type',\n",
       "       'Mas Vnr Area', 'Exter Qual', 'Exter Cond', 'Foundation', 'Bsmt Qual',\n",
       "       'Bsmt Cond', 'Bsmt Exposure', 'BsmtFin Type 1', 'BsmtFin SF 1',\n",
       "       'BsmtFin Type 2', 'BsmtFin SF 2', 'Bsmt Unf SF', 'Total Bsmt SF',\n",
       "       'Heating', 'Heating QC', 'Central Air', 'Electrical', '1st Flr SF',\n",
       "       '2nd Flr SF', 'Low Qual Fin SF', 'Gr Liv Area', 'Bsmt Full Bath',\n",
       "       'Bsmt Half Bath', 'Full Bath', 'Half Bath', 'Bedroom AbvGr',\n",
       "       'Kitchen AbvGr', 'Kitchen Qual', 'TotRms AbvGrd', 'Functional',\n",
       "       'Fireplaces', 'Fireplace Qu', 'Garage Type', 'Garage Yr Blt',\n",
       "       'Garage Finish', 'Garage Cars', 'Garage Area', 'Garage Qual',\n",
       "       'Garage Cond', 'Paved Drive', 'Wood Deck SF', 'Open Porch SF',\n",
       "       'Enclosed Porch', '3Ssn Porch', 'Screen Porch', 'Pool Area', 'Pool QC',\n",
       "       'Fence', 'Misc Feature', 'Misc Val', 'Mo Sold', 'Yr Sold', 'Sale Type',\n",
       "       'Sale Condition'],\n",
       "      dtype='object')"
      ]
     },
     "execution_count": 25,
     "metadata": {},
     "output_type": "execute_result"
    }
   ],
   "source": [
    "df.columns"
   ]
  },
  {
   "cell_type": "code",
   "execution_count": 26,
   "id": "73df9213",
   "metadata": {},
   "outputs": [],
   "source": [
    "# Create a dictionary to rename columns\n",
    "col_name_dict = {'Order':'id', 'PID':'pid', 'MS SubClass':'ms_subclass', 'MS Zoning':'ms_zoning',\n",
    "                 'Lot Frontage':'lot_frontage', 'Lot Area':'lot_area','Street':'street','Alley':'alley',\n",
    "                 'Lot Shape':'lot_shape', 'Land Contour':'land_contour', 'Utilities':'utilities',\n",
    "                 'Lot Config':'lot_config', 'Land Slope':'land_slope', 'Neighborhood':'neighborhood',\n",
    "                 'Condition 1':'condition_1','Condition 2':'condition_2', 'Bldg Type':'building_type',\n",
    "                 'House Style':'house_style', 'Overall Qual':'overall_quality','Overall Cond':'overall_condition',\n",
    "                 'Year Built':'year_built', 'Year Remod/Add':'year_remodel_add', 'Roof Style':'roof_style',\n",
    "                 'Roof Matl':'roof_material', 'Exterior 1st':'exterior_1', 'Exterior 2nd':'exterior_2',\n",
    "                 'Mas Vnr Type':'masonry_type','Mas Vnr Area':'masonry_area', 'Exter Qual':'external_quality',\n",
    "                 'Exter Cond':'external_condition', 'Foundation':'foundation', 'Bsmt Qual':'basement_quality',\n",
    "                 'Bsmt Cond':'basement_condition', 'Bsmt Exposure':'basement_exposure',\n",
    "                 'BsmtFin Type 1':'basement_fin_type_1', 'BsmtFin SF 1':'basement_fin_sf_1',\n",
    "                 'BsmtFin Type 2':'basement_fin_type_2', 'BsmtFin SF 2':'basement_fin_sf_2',\n",
    "                 'Bsmt Unf SF':'basement_unf_sf', 'Total Bsmt SF':'total_basement_sf','Heating':'heating',\n",
    "                 'Heating QC':'heating_qc', 'Central Air':'central_air', 'Electrical':'electrical',\n",
    "                 '1st Flr SF':'1st_floor_sf','2nd Flr SF':'2nd_floor_sf', 'Low Qual Fin SF':'low_quality_fin_sf',\n",
    "                 'Gr Liv Area':'ground_living_area', 'Bsmt Full Bath':'basement_full_bath',\n",
    "                 'Bsmt Half Bath':'basement_half_bath', 'Full Bath':'full_bath', 'Half Bath':'half_bath',\n",
    "                 'Bedroom AbvGr':'bed_above_ground','Kitchen AbvGr':'kitchen_above_ground',\n",
    "                 'Kitchen Qual':'kitchen_quality', 'TotRms AbvGrd':'total_rooms_above_ground', \n",
    "                 'Functional':'functional','Fireplaces':'fireplace', 'Fireplace Qu':'fireplace_quality',\n",
    "                 'Garage Type':'garage_type', 'Garage Yr Blt':'garage_year_built','Garage Finish':'garage_fin',\n",
    "                 'Garage Cars':'garage_cars', 'Garage Area':'garage_area', 'Garage Qual':'garage_quality',\n",
    "                 'Garage Cond':'garage_condition', 'Paved Drive':'paved_drive', 'Wood Deck SF':'wood_deck_sf',\n",
    "                 'Open Porch SF':'open_porch_df','Enclosed Porch':'enclosed_porch', '3Ssn Porch':'3ssn_porch',\n",
    "                 'Screen Porch':'screen_porch', 'Pool Area':'pool_area', 'Pool QC':'pool_quality','Fence':'fence',\n",
    "                 'Misc Feature':'misc_feature', 'Misc Val':'misc_value', 'Mo Sold':'month_sold',\n",
    "                 'Yr Sold':'year_sold', 'Sale Type':'sale_type','SalePrice':'sale_price'}"
   ]
  },
  {
   "cell_type": "code",
   "execution_count": 27,
   "id": "0607f332",
   "metadata": {
    "scrolled": true
   },
   "outputs": [],
   "source": [
    "# rename columns\n",
    "df = df.rename(columns=col_name_dict)"
   ]
  },
  {
   "cell_type": "code",
   "execution_count": 28,
   "id": "f7d10011",
   "metadata": {},
   "outputs": [
    {
     "data": {
      "text/plain": [
       "(733, 81)"
      ]
     },
     "execution_count": 28,
     "metadata": {},
     "output_type": "execute_result"
    }
   ],
   "source": [
    "df.shape"
   ]
  },
  {
   "cell_type": "code",
   "execution_count": 29,
   "id": "3e19d830",
   "metadata": {
    "scrolled": true
   },
   "outputs": [
    {
     "data": {
      "text/html": [
       "<div>\n",
       "<style scoped>\n",
       "    .dataframe tbody tr th:only-of-type {\n",
       "        vertical-align: middle;\n",
       "    }\n",
       "\n",
       "    .dataframe tbody tr th {\n",
       "        vertical-align: top;\n",
       "    }\n",
       "\n",
       "    .dataframe thead th {\n",
       "        text-align: right;\n",
       "    }\n",
       "</style>\n",
       "<table border=\"1\" class=\"dataframe\">\n",
       "  <thead>\n",
       "    <tr style=\"text-align: right;\">\n",
       "      <th></th>\n",
       "      <th>id</th>\n",
       "      <th>pid</th>\n",
       "      <th>ms_subclass</th>\n",
       "      <th>ms_zoning</th>\n",
       "      <th>lot_frontage</th>\n",
       "      <th>lot_area</th>\n",
       "      <th>street</th>\n",
       "      <th>alley</th>\n",
       "      <th>lot_shape</th>\n",
       "      <th>land_contour</th>\n",
       "      <th>...</th>\n",
       "      <th>screen_porch</th>\n",
       "      <th>pool_area</th>\n",
       "      <th>pool_quality</th>\n",
       "      <th>fence</th>\n",
       "      <th>misc_feature</th>\n",
       "      <th>misc_value</th>\n",
       "      <th>month_sold</th>\n",
       "      <th>year_sold</th>\n",
       "      <th>sale_type</th>\n",
       "      <th>Sale Condition</th>\n",
       "    </tr>\n",
       "  </thead>\n",
       "  <tbody>\n",
       "    <tr>\n",
       "      <th>0</th>\n",
       "      <td>2127</td>\n",
       "      <td>907135180</td>\n",
       "      <td>20</td>\n",
       "      <td>RL</td>\n",
       "      <td>60.0</td>\n",
       "      <td>8070</td>\n",
       "      <td>Pave</td>\n",
       "      <td>NaN</td>\n",
       "      <td>Reg</td>\n",
       "      <td>Lvl</td>\n",
       "      <td>...</td>\n",
       "      <td>0</td>\n",
       "      <td>0</td>\n",
       "      <td>NaN</td>\n",
       "      <td>NaN</td>\n",
       "      <td>NaN</td>\n",
       "      <td>0</td>\n",
       "      <td>8</td>\n",
       "      <td>2007</td>\n",
       "      <td>WD</td>\n",
       "      <td>Normal</td>\n",
       "    </tr>\n",
       "    <tr>\n",
       "      <th>1</th>\n",
       "      <td>193</td>\n",
       "      <td>903206120</td>\n",
       "      <td>75</td>\n",
       "      <td>RL</td>\n",
       "      <td>NaN</td>\n",
       "      <td>7793</td>\n",
       "      <td>Pave</td>\n",
       "      <td>NaN</td>\n",
       "      <td>IR1</td>\n",
       "      <td>Bnk</td>\n",
       "      <td>...</td>\n",
       "      <td>0</td>\n",
       "      <td>0</td>\n",
       "      <td>NaN</td>\n",
       "      <td>NaN</td>\n",
       "      <td>NaN</td>\n",
       "      <td>0</td>\n",
       "      <td>5</td>\n",
       "      <td>2010</td>\n",
       "      <td>WD</td>\n",
       "      <td>Normal</td>\n",
       "    </tr>\n",
       "    <tr>\n",
       "      <th>2</th>\n",
       "      <td>2407</td>\n",
       "      <td>528181040</td>\n",
       "      <td>120</td>\n",
       "      <td>RL</td>\n",
       "      <td>40.0</td>\n",
       "      <td>6792</td>\n",
       "      <td>Pave</td>\n",
       "      <td>NaN</td>\n",
       "      <td>IR1</td>\n",
       "      <td>Lvl</td>\n",
       "      <td>...</td>\n",
       "      <td>0</td>\n",
       "      <td>0</td>\n",
       "      <td>NaN</td>\n",
       "      <td>NaN</td>\n",
       "      <td>NaN</td>\n",
       "      <td>0</td>\n",
       "      <td>3</td>\n",
       "      <td>2006</td>\n",
       "      <td>New</td>\n",
       "      <td>Partial</td>\n",
       "    </tr>\n",
       "  </tbody>\n",
       "</table>\n",
       "<p>3 rows × 81 columns</p>\n",
       "</div>"
      ],
      "text/plain": [
       "     id        pid  ms_subclass ms_zoning  lot_frontage  lot_area street  \\\n",
       "0  2127  907135180           20        RL          60.0      8070   Pave   \n",
       "1   193  903206120           75        RL           NaN      7793   Pave   \n",
       "2  2407  528181040          120        RL          40.0      6792   Pave   \n",
       "\n",
       "  alley lot_shape land_contour  ... screen_porch pool_area pool_quality fence  \\\n",
       "0   NaN       Reg          Lvl  ...            0         0          NaN   NaN   \n",
       "1   NaN       IR1          Bnk  ...            0         0          NaN   NaN   \n",
       "2   NaN       IR1          Lvl  ...            0         0          NaN   NaN   \n",
       "\n",
       "  misc_feature misc_value month_sold year_sold  sale_type  Sale Condition  \n",
       "0          NaN          0          8      2007        WD           Normal  \n",
       "1          NaN          0          5      2010        WD           Normal  \n",
       "2          NaN          0          3      2006        New         Partial  \n",
       "\n",
       "[3 rows x 81 columns]"
      ]
     },
     "execution_count": 29,
     "metadata": {},
     "output_type": "execute_result"
    }
   ],
   "source": [
    "df.head(3)"
   ]
  },
  {
   "cell_type": "code",
   "execution_count": 30,
   "id": "6ff9923c",
   "metadata": {
    "scrolled": false
   },
   "outputs": [
    {
     "data": {
      "text/plain": [
       "pool_quality           0.998636\n",
       "misc_feature           0.964529\n",
       "alley                  0.924966\n",
       "fence                  0.791269\n",
       "fireplace_quality      0.485675\n",
       "lot_frontage           0.174625\n",
       "garage_type            0.050477\n",
       "garage_year_built      0.050477\n",
       "garage_fin             0.050477\n",
       "garage_quality         0.050477\n",
       "garage_condition       0.050477\n",
       "basement_exposure      0.019100\n",
       "basement_fin_type_1    0.017735\n",
       "basement_fin_type_2    0.017735\n",
       "basement_condition     0.017735\n",
       "basement_quality       0.017735\n",
       "basement_full_bath     0.001364\n",
       "masonry_area           0.001364\n",
       "masonry_type           0.001364\n",
       "basement_half_bath     0.001364\n",
       "dtype: float64"
      ]
     },
     "execution_count": 30,
     "metadata": {},
     "output_type": "execute_result"
    }
   ],
   "source": [
    "# Check nulls\n",
    "df.isnull().mean()[df.isnull().sum() > 0].sort_values(ascending=False)"
   ]
  },
  {
   "cell_type": "code",
   "execution_count": 31,
   "id": "a9178807",
   "metadata": {},
   "outputs": [],
   "source": [
    "# Drop almost empty columns\n",
    "df = df.drop(['pool_quality','alley','misc_feature','fence'], axis=1)"
   ]
  },
  {
   "cell_type": "code",
   "execution_count": 32,
   "id": "301a1f43",
   "metadata": {},
   "outputs": [],
   "source": [
    "# Fill categorical column with NA\n",
    "\n",
    "df['masonry_area'].fillna(0,inplace=True)\n",
    "df['masonry_type'].fillna('NA',inplace=True)\n",
    "df['lot_frontage'].fillna(0,inplace=True)\n",
    "df['fireplace_quality'].fillna('NA',inplace=True)\n",
    "df['garage_type'].fillna('NA',inplace=True)\n",
    "df['garage_year_built'].fillna('NA',inplace=True)\n",
    "df['garage_fin'].fillna('NA',inplace=True)\n",
    "df['garage_quality'].fillna('NA',inplace=True)\n",
    "df['garage_condition'].fillna('NA',inplace=True)\n",
    "df['basement_quality'].fillna('NA',inplace=True)\n",
    "df['basement_condition'].fillna('NA',inplace=True)\n",
    "df['basement_exposure'].fillna('NA',inplace=True)\n",
    "df['basement_fin_type_1'].fillna('NA',inplace=True)\n",
    "df['basement_fin_type_2'].fillna('NA',inplace=True)\n",
    "df['basement_fin_sf_1'].fillna(0,inplace=True) #mode\n",
    "df['basement_fin_sf_2'].fillna(0,inplace=True) #mode\n",
    "df['basement_unf_sf'].fillna(0,inplace=True) #mode\n",
    "df['basement_full_bath'].fillna(0,inplace=True)\n",
    "df['basement_half_bath'].fillna(0,inplace=True)\n",
    "df['garage_cars'].fillna(0,inplace=True)\n",
    "df['electrical'].fillna(df['electrical'].mode()[0],inplace=True)\n",
    "df['total_basement_sf'].fillna(0,inplace=True)\n",
    "df['garage_area'].fillna(0,inplace=True)"
   ]
  },
  {
   "cell_type": "code",
   "execution_count": 33,
   "id": "e81b00b3",
   "metadata": {
    "scrolled": false
   },
   "outputs": [
    {
     "data": {
      "text/plain": [
       "Series([], dtype: float64)"
      ]
     },
     "execution_count": 33,
     "metadata": {},
     "output_type": "execute_result"
    }
   ],
   "source": [
    "# Check nulls\n",
    "df.isnull().mean()[df.isnull().mean()>0]"
   ]
  },
  {
   "cell_type": "code",
   "execution_count": 34,
   "id": "8a04f985",
   "metadata": {},
   "outputs": [],
   "source": [
    "df.to_csv('./datasets/test_cleaned.csv', index=False)"
   ]
  },
  {
   "cell_type": "markdown",
   "id": "55d0f8ff",
   "metadata": {},
   "source": [
    "----"
   ]
  }
 ],
 "metadata": {
  "kernelspec": {
   "display_name": "Python 3 (ipykernel)",
   "language": "python",
   "name": "python3"
  },
  "language_info": {
   "codemirror_mode": {
    "name": "ipython",
    "version": 3
   },
   "file_extension": ".py",
   "mimetype": "text/x-python",
   "name": "python",
   "nbconvert_exporter": "python",
   "pygments_lexer": "ipython3",
   "version": "3.9.12"
  }
 },
 "nbformat": 4,
 "nbformat_minor": 5
}
